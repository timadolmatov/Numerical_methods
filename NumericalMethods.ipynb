{
 "cells": [
  {
   "cell_type": "markdown",
   "metadata": {},
   "source": [
    "# Определение стоимости автомобилей"
   ]
  },
  {
   "cell_type": "markdown",
   "metadata": {},
   "source": [
    "Сервис по продаже автомобилей с пробегом «Не бит, не крашен» разрабатывает приложение для привлечения новых клиентов. В нём можно быстро узнать рыночную стоимость своего автомобиля. В вашем распоряжении исторические данные: технические характеристики, комплектации и цены автомобилей. Вам нужно построить модель для определения стоимости. \n",
    "\n",
    "Заказчику важны:\n",
    "\n",
    "- качество предсказания;\n",
    "- скорость предсказания;\n",
    "- время обучения."
   ]
  },
  {
   "cell_type": "markdown",
   "metadata": {},
   "source": [
    "## Подготовка данных"
   ]
  },
  {
   "cell_type": "code",
   "execution_count": 1,
   "metadata": {},
   "outputs": [],
   "source": [
    "import pandas as pd\n",
    "import numpy as np\n",
    "import matplotlib.pyplot as plt\n",
    "from sklearn.model_selection import train_test_split\n",
    "import seaborn as sns\n",
    "%matplotlib inline\n",
    "from sklearn.metrics import mean_squared_error, make_scorer\n",
    "from sklearn.metrics import mean_absolute_error\n",
    "import warnings\n",
    "warnings.filterwarnings('ignore')"
   ]
  },
  {
   "cell_type": "code",
   "execution_count": 2,
   "metadata": {
    "scrolled": true
   },
   "outputs": [
    {
     "data": {
      "text/html": [
       "<div>\n",
       "<style scoped>\n",
       "    .dataframe tbody tr th:only-of-type {\n",
       "        vertical-align: middle;\n",
       "    }\n",
       "\n",
       "    .dataframe tbody tr th {\n",
       "        vertical-align: top;\n",
       "    }\n",
       "\n",
       "    .dataframe thead th {\n",
       "        text-align: right;\n",
       "    }\n",
       "</style>\n",
       "<table border=\"1\" class=\"dataframe\">\n",
       "  <thead>\n",
       "    <tr style=\"text-align: right;\">\n",
       "      <th></th>\n",
       "      <th>DateCrawled</th>\n",
       "      <th>Price</th>\n",
       "      <th>VehicleType</th>\n",
       "      <th>RegistrationYear</th>\n",
       "      <th>Gearbox</th>\n",
       "      <th>Power</th>\n",
       "      <th>Model</th>\n",
       "      <th>Kilometer</th>\n",
       "      <th>RegistrationMonth</th>\n",
       "      <th>FuelType</th>\n",
       "      <th>Brand</th>\n",
       "      <th>NotRepaired</th>\n",
       "      <th>DateCreated</th>\n",
       "      <th>NumberOfPictures</th>\n",
       "      <th>PostalCode</th>\n",
       "      <th>LastSeen</th>\n",
       "    </tr>\n",
       "  </thead>\n",
       "  <tbody>\n",
       "    <tr>\n",
       "      <td>0</td>\n",
       "      <td>2016-03-24 11:52:17</td>\n",
       "      <td>480</td>\n",
       "      <td>NaN</td>\n",
       "      <td>1993</td>\n",
       "      <td>manual</td>\n",
       "      <td>0</td>\n",
       "      <td>golf</td>\n",
       "      <td>150000</td>\n",
       "      <td>0</td>\n",
       "      <td>petrol</td>\n",
       "      <td>volkswagen</td>\n",
       "      <td>NaN</td>\n",
       "      <td>2016-03-24 00:00:00</td>\n",
       "      <td>0</td>\n",
       "      <td>70435</td>\n",
       "      <td>2016-04-07 03:16:57</td>\n",
       "    </tr>\n",
       "    <tr>\n",
       "      <td>1</td>\n",
       "      <td>2016-03-24 10:58:45</td>\n",
       "      <td>18300</td>\n",
       "      <td>coupe</td>\n",
       "      <td>2011</td>\n",
       "      <td>manual</td>\n",
       "      <td>190</td>\n",
       "      <td>NaN</td>\n",
       "      <td>125000</td>\n",
       "      <td>5</td>\n",
       "      <td>gasoline</td>\n",
       "      <td>audi</td>\n",
       "      <td>yes</td>\n",
       "      <td>2016-03-24 00:00:00</td>\n",
       "      <td>0</td>\n",
       "      <td>66954</td>\n",
       "      <td>2016-04-07 01:46:50</td>\n",
       "    </tr>\n",
       "    <tr>\n",
       "      <td>2</td>\n",
       "      <td>2016-03-14 12:52:21</td>\n",
       "      <td>9800</td>\n",
       "      <td>suv</td>\n",
       "      <td>2004</td>\n",
       "      <td>auto</td>\n",
       "      <td>163</td>\n",
       "      <td>grand</td>\n",
       "      <td>125000</td>\n",
       "      <td>8</td>\n",
       "      <td>gasoline</td>\n",
       "      <td>jeep</td>\n",
       "      <td>NaN</td>\n",
       "      <td>2016-03-14 00:00:00</td>\n",
       "      <td>0</td>\n",
       "      <td>90480</td>\n",
       "      <td>2016-04-05 12:47:46</td>\n",
       "    </tr>\n",
       "    <tr>\n",
       "      <td>3</td>\n",
       "      <td>2016-03-17 16:54:04</td>\n",
       "      <td>1500</td>\n",
       "      <td>small</td>\n",
       "      <td>2001</td>\n",
       "      <td>manual</td>\n",
       "      <td>75</td>\n",
       "      <td>golf</td>\n",
       "      <td>150000</td>\n",
       "      <td>6</td>\n",
       "      <td>petrol</td>\n",
       "      <td>volkswagen</td>\n",
       "      <td>no</td>\n",
       "      <td>2016-03-17 00:00:00</td>\n",
       "      <td>0</td>\n",
       "      <td>91074</td>\n",
       "      <td>2016-03-17 17:40:17</td>\n",
       "    </tr>\n",
       "    <tr>\n",
       "      <td>4</td>\n",
       "      <td>2016-03-31 17:25:20</td>\n",
       "      <td>3600</td>\n",
       "      <td>small</td>\n",
       "      <td>2008</td>\n",
       "      <td>manual</td>\n",
       "      <td>69</td>\n",
       "      <td>fabia</td>\n",
       "      <td>90000</td>\n",
       "      <td>7</td>\n",
       "      <td>gasoline</td>\n",
       "      <td>skoda</td>\n",
       "      <td>no</td>\n",
       "      <td>2016-03-31 00:00:00</td>\n",
       "      <td>0</td>\n",
       "      <td>60437</td>\n",
       "      <td>2016-04-06 10:17:21</td>\n",
       "    </tr>\n",
       "  </tbody>\n",
       "</table>\n",
       "</div>"
      ],
      "text/plain": [
       "           DateCrawled  Price VehicleType  RegistrationYear Gearbox  Power  \\\n",
       "0  2016-03-24 11:52:17    480         NaN              1993  manual      0   \n",
       "1  2016-03-24 10:58:45  18300       coupe              2011  manual    190   \n",
       "2  2016-03-14 12:52:21   9800         suv              2004    auto    163   \n",
       "3  2016-03-17 16:54:04   1500       small              2001  manual     75   \n",
       "4  2016-03-31 17:25:20   3600       small              2008  manual     69   \n",
       "\n",
       "   Model  Kilometer  RegistrationMonth  FuelType       Brand NotRepaired  \\\n",
       "0   golf     150000                  0    petrol  volkswagen         NaN   \n",
       "1    NaN     125000                  5  gasoline        audi         yes   \n",
       "2  grand     125000                  8  gasoline        jeep         NaN   \n",
       "3   golf     150000                  6    petrol  volkswagen          no   \n",
       "4  fabia      90000                  7  gasoline       skoda          no   \n",
       "\n",
       "           DateCreated  NumberOfPictures  PostalCode             LastSeen  \n",
       "0  2016-03-24 00:00:00                 0       70435  2016-04-07 03:16:57  \n",
       "1  2016-03-24 00:00:00                 0       66954  2016-04-07 01:46:50  \n",
       "2  2016-03-14 00:00:00                 0       90480  2016-04-05 12:47:46  \n",
       "3  2016-03-17 00:00:00                 0       91074  2016-03-17 17:40:17  \n",
       "4  2016-03-31 00:00:00                 0       60437  2016-04-06 10:17:21  "
      ]
     },
     "metadata": {},
     "output_type": "display_data"
    },
    {
     "name": "stdout",
     "output_type": "stream",
     "text": [
      "<class 'pandas.core.frame.DataFrame'>\n",
      "RangeIndex: 354369 entries, 0 to 354368\n",
      "Data columns (total 16 columns):\n",
      "DateCrawled          354369 non-null object\n",
      "Price                354369 non-null int64\n",
      "VehicleType          316879 non-null object\n",
      "RegistrationYear     354369 non-null int64\n",
      "Gearbox              334536 non-null object\n",
      "Power                354369 non-null int64\n",
      "Model                334664 non-null object\n",
      "Kilometer            354369 non-null int64\n",
      "RegistrationMonth    354369 non-null int64\n",
      "FuelType             321474 non-null object\n",
      "Brand                354369 non-null object\n",
      "NotRepaired          283215 non-null object\n",
      "DateCreated          354369 non-null object\n",
      "NumberOfPictures     354369 non-null int64\n",
      "PostalCode           354369 non-null int64\n",
      "LastSeen             354369 non-null object\n",
      "dtypes: int64(7), object(9)\n",
      "memory usage: 43.3+ MB\n",
      "<class 'pandas.core.frame.DataFrame'>\n",
      "RangeIndex: 354369 entries, 0 to 354368\n",
      "Data columns (total 16 columns):\n",
      "DateCrawled          354369 non-null datetime64[ns]\n",
      "Price                354369 non-null int64\n",
      "VehicleType          316879 non-null object\n",
      "RegistrationYear     354369 non-null int64\n",
      "Gearbox              334536 non-null object\n",
      "Power                354369 non-null int64\n",
      "Model                334664 non-null object\n",
      "Kilometer            354369 non-null int64\n",
      "RegistrationMonth    354369 non-null int64\n",
      "FuelType             321474 non-null object\n",
      "Brand                354369 non-null object\n",
      "NotRepaired          283215 non-null object\n",
      "DateCreated          354369 non-null datetime64[ns]\n",
      "NumberOfPictures     354369 non-null int64\n",
      "PostalCode           354369 non-null int64\n",
      "LastSeen             354369 non-null datetime64[ns]\n",
      "dtypes: datetime64[ns](3), int64(7), object(6)\n",
      "memory usage: 43.3+ MB\n"
     ]
    }
   ],
   "source": [
    "data = pd.read_csv('/datasets/autos.csv')\n",
    "display(data.head())\n",
    "data.info()\n",
    "data['DateCrawled'] = pd.to_datetime(data['DateCrawled'], format = '%Y-%m-%d')\n",
    "data['DateCreated'] = pd.to_datetime(data['DateCreated'], format = '%Y-%m-%d')\n",
    "data['LastSeen'] = pd.to_datetime(data['LastSeen'], format = '%Y-%m-%d')\n",
    "data.info()"
   ]
  },
  {
   "cell_type": "markdown",
   "metadata": {},
   "source": [
    "# UPD_0_start:"
   ]
  },
  {
   "cell_type": "code",
   "execution_count": 3,
   "metadata": {},
   "outputs": [],
   "source": [
    "def data_info(data):\n",
    "    print(50*'-')\n",
    "    data.info()\n",
    "    print('Описание количественных переменных')\n",
    "    print(data.describe(percentiles=[.25, .5]))\n",
    "    print(50*'-')\n",
    "    print(f'Количество дубликатов в таблице = {data.duplicated().sum()}')"
   ]
  },
  {
   "cell_type": "code",
   "execution_count": 4,
   "metadata": {
    "scrolled": true
   },
   "outputs": [
    {
     "name": "stdout",
     "output_type": "stream",
     "text": [
      "--------------------------------------------------\n",
      "<class 'pandas.core.frame.DataFrame'>\n",
      "RangeIndex: 354369 entries, 0 to 354368\n",
      "Data columns (total 16 columns):\n",
      "DateCrawled          354369 non-null datetime64[ns]\n",
      "Price                354369 non-null int64\n",
      "VehicleType          316879 non-null object\n",
      "RegistrationYear     354369 non-null int64\n",
      "Gearbox              334536 non-null object\n",
      "Power                354369 non-null int64\n",
      "Model                334664 non-null object\n",
      "Kilometer            354369 non-null int64\n",
      "RegistrationMonth    354369 non-null int64\n",
      "FuelType             321474 non-null object\n",
      "Brand                354369 non-null object\n",
      "NotRepaired          283215 non-null object\n",
      "DateCreated          354369 non-null datetime64[ns]\n",
      "NumberOfPictures     354369 non-null int64\n",
      "PostalCode           354369 non-null int64\n",
      "LastSeen             354369 non-null datetime64[ns]\n",
      "dtypes: datetime64[ns](3), int64(7), object(6)\n",
      "memory usage: 43.3+ MB\n",
      "Описание количественных переменных\n",
      "               Price  RegistrationYear          Power      Kilometer  \\\n",
      "count  354369.000000     354369.000000  354369.000000  354369.000000   \n",
      "mean     4416.656776       2004.234448     110.094337  128211.172535   \n",
      "std      4514.158514         90.227958     189.850405   37905.341530   \n",
      "min         0.000000       1000.000000       0.000000    5000.000000   \n",
      "25%      1050.000000       1999.000000      69.000000  125000.000000   \n",
      "50%      2700.000000       2003.000000     105.000000  150000.000000   \n",
      "max     20000.000000       9999.000000   20000.000000  150000.000000   \n",
      "\n",
      "       RegistrationMonth  NumberOfPictures     PostalCode  \n",
      "count      354369.000000          354369.0  354369.000000  \n",
      "mean            5.714645               0.0   50508.689087  \n",
      "std             3.726421               0.0   25783.096248  \n",
      "min             0.000000               0.0    1067.000000  \n",
      "25%             3.000000               0.0   30165.000000  \n",
      "50%             6.000000               0.0   49413.000000  \n",
      "max            12.000000               0.0   99998.000000  \n",
      "--------------------------------------------------\n",
      "Количество дубликатов в таблице = 4\n"
     ]
    }
   ],
   "source": [
    "data_info(data)"
   ]
  },
  {
   "cell_type": "code",
   "execution_count": 5,
   "metadata": {},
   "outputs": [
    {
     "data": {
      "text/plain": [
       "0    354369\n",
       "Name: NumberOfPictures, dtype: int64"
      ]
     },
     "execution_count": 5,
     "metadata": {},
     "output_type": "execute_result"
    }
   ],
   "source": [
    "data.NumberOfPictures.value_counts()"
   ]
  },
  {
   "cell_type": "markdown",
   "metadata": {},
   "source": [
    "# Замечания после первичного анализа данных:\n",
    "\n",
    "<b>Пропуски:</b>\n",
    "    - VehicleType, Gearbox, Model, FuelType, Brand, NotRepaired.\n",
    "<b>Анализ численных данных на адекватность:</b>\n",
    "    - Price = 0. Удалим эти строки, так как цена быть должна;\n",
    "    - Power, 20000 лс слишком много. Но для этого нужно более детально понимание о мощностях всех моделей автомобилей, т.к. есть двигатели двс мощностью свыше 100.000 лс;\n",
    "    - Kilometer, медиана совпадает с max, что странно;\n",
    "    - RegistrationMonth [1, 12], т.е. 0 быть не должно;\n",
    "    - NumberOfPictures везде = 0. По-моему значимость данного признака нулевая, т.е. фичу вовсе можно удалить.\n",
    "<b>Анализ остальных колонок:</b>\n",
    "    - признаки DateCrawled, DateCreated, LastSeen не будут использоваться, т.к. не несут никакой полезной информации.\n",
    "\n",
    "Так же на первой стадии выявлено 4 дубликата.\n",
    "\n",
    "Алгоритм обработки данных:\n",
    "\n",
    "- удалить колонку с числом изображений (NumberOfPictures);\n",
    "- изменить типы данных на Date;\n",
    "- проработать выбросы, NaN значения и дубликаты."
   ]
  },
  {
   "cell_type": "code",
   "execution_count": 6,
   "metadata": {
    "scrolled": true
   },
   "outputs": [
    {
     "data": {
      "text/html": [
       "<div>\n",
       "<style scoped>\n",
       "    .dataframe tbody tr th:only-of-type {\n",
       "        vertical-align: middle;\n",
       "    }\n",
       "\n",
       "    .dataframe tbody tr th {\n",
       "        vertical-align: top;\n",
       "    }\n",
       "\n",
       "    .dataframe thead th {\n",
       "        text-align: right;\n",
       "    }\n",
       "</style>\n",
       "<table border=\"1\" class=\"dataframe\">\n",
       "  <thead>\n",
       "    <tr style=\"text-align: right;\">\n",
       "      <th></th>\n",
       "      <th>DateCrawled</th>\n",
       "      <th>Price</th>\n",
       "      <th>VehicleType</th>\n",
       "      <th>RegistrationYear</th>\n",
       "      <th>Gearbox</th>\n",
       "      <th>Power</th>\n",
       "      <th>Model</th>\n",
       "      <th>Kilometer</th>\n",
       "      <th>RegistrationMonth</th>\n",
       "      <th>FuelType</th>\n",
       "      <th>Brand</th>\n",
       "      <th>NotRepaired</th>\n",
       "      <th>DateCreated</th>\n",
       "      <th>PostalCode</th>\n",
       "      <th>LastSeen</th>\n",
       "    </tr>\n",
       "  </thead>\n",
       "  <tbody>\n",
       "    <tr>\n",
       "      <td>0</td>\n",
       "      <td>2016-03-24 11:52:17</td>\n",
       "      <td>480</td>\n",
       "      <td>NaN</td>\n",
       "      <td>1993</td>\n",
       "      <td>manual</td>\n",
       "      <td>0</td>\n",
       "      <td>golf</td>\n",
       "      <td>150000</td>\n",
       "      <td>0</td>\n",
       "      <td>petrol</td>\n",
       "      <td>volkswagen</td>\n",
       "      <td>NaN</td>\n",
       "      <td>2016-03-24</td>\n",
       "      <td>70435</td>\n",
       "      <td>2016-04-07 03:16:57</td>\n",
       "    </tr>\n",
       "    <tr>\n",
       "      <td>1</td>\n",
       "      <td>2016-03-24 10:58:45</td>\n",
       "      <td>18300</td>\n",
       "      <td>coupe</td>\n",
       "      <td>2011</td>\n",
       "      <td>manual</td>\n",
       "      <td>190</td>\n",
       "      <td>NaN</td>\n",
       "      <td>125000</td>\n",
       "      <td>5</td>\n",
       "      <td>gasoline</td>\n",
       "      <td>audi</td>\n",
       "      <td>yes</td>\n",
       "      <td>2016-03-24</td>\n",
       "      <td>66954</td>\n",
       "      <td>2016-04-07 01:46:50</td>\n",
       "    </tr>\n",
       "    <tr>\n",
       "      <td>2</td>\n",
       "      <td>2016-03-14 12:52:21</td>\n",
       "      <td>9800</td>\n",
       "      <td>suv</td>\n",
       "      <td>2004</td>\n",
       "      <td>auto</td>\n",
       "      <td>163</td>\n",
       "      <td>grand</td>\n",
       "      <td>125000</td>\n",
       "      <td>8</td>\n",
       "      <td>gasoline</td>\n",
       "      <td>jeep</td>\n",
       "      <td>NaN</td>\n",
       "      <td>2016-03-14</td>\n",
       "      <td>90480</td>\n",
       "      <td>2016-04-05 12:47:46</td>\n",
       "    </tr>\n",
       "    <tr>\n",
       "      <td>3</td>\n",
       "      <td>2016-03-17 16:54:04</td>\n",
       "      <td>1500</td>\n",
       "      <td>small</td>\n",
       "      <td>2001</td>\n",
       "      <td>manual</td>\n",
       "      <td>75</td>\n",
       "      <td>golf</td>\n",
       "      <td>150000</td>\n",
       "      <td>6</td>\n",
       "      <td>petrol</td>\n",
       "      <td>volkswagen</td>\n",
       "      <td>no</td>\n",
       "      <td>2016-03-17</td>\n",
       "      <td>91074</td>\n",
       "      <td>2016-03-17 17:40:17</td>\n",
       "    </tr>\n",
       "    <tr>\n",
       "      <td>4</td>\n",
       "      <td>2016-03-31 17:25:20</td>\n",
       "      <td>3600</td>\n",
       "      <td>small</td>\n",
       "      <td>2008</td>\n",
       "      <td>manual</td>\n",
       "      <td>69</td>\n",
       "      <td>fabia</td>\n",
       "      <td>90000</td>\n",
       "      <td>7</td>\n",
       "      <td>gasoline</td>\n",
       "      <td>skoda</td>\n",
       "      <td>no</td>\n",
       "      <td>2016-03-31</td>\n",
       "      <td>60437</td>\n",
       "      <td>2016-04-06 10:17:21</td>\n",
       "    </tr>\n",
       "    <tr>\n",
       "      <td>...</td>\n",
       "      <td>...</td>\n",
       "      <td>...</td>\n",
       "      <td>...</td>\n",
       "      <td>...</td>\n",
       "      <td>...</td>\n",
       "      <td>...</td>\n",
       "      <td>...</td>\n",
       "      <td>...</td>\n",
       "      <td>...</td>\n",
       "      <td>...</td>\n",
       "      <td>...</td>\n",
       "      <td>...</td>\n",
       "      <td>...</td>\n",
       "      <td>...</td>\n",
       "      <td>...</td>\n",
       "    </tr>\n",
       "    <tr>\n",
       "      <td>354364</td>\n",
       "      <td>2016-03-21 09:50:58</td>\n",
       "      <td>0</td>\n",
       "      <td>NaN</td>\n",
       "      <td>2005</td>\n",
       "      <td>manual</td>\n",
       "      <td>0</td>\n",
       "      <td>colt</td>\n",
       "      <td>150000</td>\n",
       "      <td>7</td>\n",
       "      <td>petrol</td>\n",
       "      <td>mitsubishi</td>\n",
       "      <td>yes</td>\n",
       "      <td>2016-03-21</td>\n",
       "      <td>2694</td>\n",
       "      <td>2016-03-21 10:42:49</td>\n",
       "    </tr>\n",
       "    <tr>\n",
       "      <td>354365</td>\n",
       "      <td>2016-03-14 17:48:27</td>\n",
       "      <td>2200</td>\n",
       "      <td>NaN</td>\n",
       "      <td>2005</td>\n",
       "      <td>NaN</td>\n",
       "      <td>0</td>\n",
       "      <td>NaN</td>\n",
       "      <td>20000</td>\n",
       "      <td>1</td>\n",
       "      <td>NaN</td>\n",
       "      <td>sonstige_autos</td>\n",
       "      <td>NaN</td>\n",
       "      <td>2016-03-14</td>\n",
       "      <td>39576</td>\n",
       "      <td>2016-04-06 00:46:52</td>\n",
       "    </tr>\n",
       "    <tr>\n",
       "      <td>354366</td>\n",
       "      <td>2016-03-05 19:56:21</td>\n",
       "      <td>1199</td>\n",
       "      <td>convertible</td>\n",
       "      <td>2000</td>\n",
       "      <td>auto</td>\n",
       "      <td>101</td>\n",
       "      <td>fortwo</td>\n",
       "      <td>125000</td>\n",
       "      <td>3</td>\n",
       "      <td>petrol</td>\n",
       "      <td>smart</td>\n",
       "      <td>no</td>\n",
       "      <td>2016-03-05</td>\n",
       "      <td>26135</td>\n",
       "      <td>2016-03-11 18:17:12</td>\n",
       "    </tr>\n",
       "    <tr>\n",
       "      <td>354367</td>\n",
       "      <td>2016-03-19 18:57:12</td>\n",
       "      <td>9200</td>\n",
       "      <td>bus</td>\n",
       "      <td>1996</td>\n",
       "      <td>manual</td>\n",
       "      <td>102</td>\n",
       "      <td>transporter</td>\n",
       "      <td>150000</td>\n",
       "      <td>3</td>\n",
       "      <td>gasoline</td>\n",
       "      <td>volkswagen</td>\n",
       "      <td>no</td>\n",
       "      <td>2016-03-19</td>\n",
       "      <td>87439</td>\n",
       "      <td>2016-04-07 07:15:26</td>\n",
       "    </tr>\n",
       "    <tr>\n",
       "      <td>354368</td>\n",
       "      <td>2016-03-20 19:41:08</td>\n",
       "      <td>3400</td>\n",
       "      <td>wagon</td>\n",
       "      <td>2002</td>\n",
       "      <td>manual</td>\n",
       "      <td>100</td>\n",
       "      <td>golf</td>\n",
       "      <td>150000</td>\n",
       "      <td>6</td>\n",
       "      <td>gasoline</td>\n",
       "      <td>volkswagen</td>\n",
       "      <td>NaN</td>\n",
       "      <td>2016-03-20</td>\n",
       "      <td>40764</td>\n",
       "      <td>2016-03-24 12:45:21</td>\n",
       "    </tr>\n",
       "  </tbody>\n",
       "</table>\n",
       "<p>354369 rows × 15 columns</p>\n",
       "</div>"
      ],
      "text/plain": [
       "               DateCrawled  Price  VehicleType  RegistrationYear Gearbox  \\\n",
       "0      2016-03-24 11:52:17    480          NaN              1993  manual   \n",
       "1      2016-03-24 10:58:45  18300        coupe              2011  manual   \n",
       "2      2016-03-14 12:52:21   9800          suv              2004    auto   \n",
       "3      2016-03-17 16:54:04   1500        small              2001  manual   \n",
       "4      2016-03-31 17:25:20   3600        small              2008  manual   \n",
       "...                    ...    ...          ...               ...     ...   \n",
       "354364 2016-03-21 09:50:58      0          NaN              2005  manual   \n",
       "354365 2016-03-14 17:48:27   2200          NaN              2005     NaN   \n",
       "354366 2016-03-05 19:56:21   1199  convertible              2000    auto   \n",
       "354367 2016-03-19 18:57:12   9200          bus              1996  manual   \n",
       "354368 2016-03-20 19:41:08   3400        wagon              2002  manual   \n",
       "\n",
       "        Power        Model  Kilometer  RegistrationMonth  FuelType  \\\n",
       "0           0         golf     150000                  0    petrol   \n",
       "1         190          NaN     125000                  5  gasoline   \n",
       "2         163        grand     125000                  8  gasoline   \n",
       "3          75         golf     150000                  6    petrol   \n",
       "4          69        fabia      90000                  7  gasoline   \n",
       "...       ...          ...        ...                ...       ...   \n",
       "354364      0         colt     150000                  7    petrol   \n",
       "354365      0          NaN      20000                  1       NaN   \n",
       "354366    101       fortwo     125000                  3    petrol   \n",
       "354367    102  transporter     150000                  3  gasoline   \n",
       "354368    100         golf     150000                  6  gasoline   \n",
       "\n",
       "                 Brand NotRepaired DateCreated  PostalCode            LastSeen  \n",
       "0           volkswagen         NaN  2016-03-24       70435 2016-04-07 03:16:57  \n",
       "1                 audi         yes  2016-03-24       66954 2016-04-07 01:46:50  \n",
       "2                 jeep         NaN  2016-03-14       90480 2016-04-05 12:47:46  \n",
       "3           volkswagen          no  2016-03-17       91074 2016-03-17 17:40:17  \n",
       "4                skoda          no  2016-03-31       60437 2016-04-06 10:17:21  \n",
       "...                ...         ...         ...         ...                 ...  \n",
       "354364      mitsubishi         yes  2016-03-21        2694 2016-03-21 10:42:49  \n",
       "354365  sonstige_autos         NaN  2016-03-14       39576 2016-04-06 00:46:52  \n",
       "354366           smart          no  2016-03-05       26135 2016-03-11 18:17:12  \n",
       "354367      volkswagen          no  2016-03-19       87439 2016-04-07 07:15:26  \n",
       "354368      volkswagen         NaN  2016-03-20       40764 2016-03-24 12:45:21  \n",
       "\n",
       "[354369 rows x 15 columns]"
      ]
     },
     "metadata": {},
     "output_type": "display_data"
    }
   ],
   "source": [
    "#удалим параметр с числом фото (NumberOfPictures)\n",
    "data = data.drop('NumberOfPictures', axis = 1)\n",
    "display(data)"
   ]
  },
  {
   "cell_type": "markdown",
   "metadata": {},
   "source": [
    "данные с типом datetime"
   ]
  },
  {
   "cell_type": "code",
   "execution_count": 7,
   "metadata": {},
   "outputs": [],
   "source": [
    "#функция высчитывает % данных по условию\n",
    "def part_of_value(df1, df):\n",
    "    return df1.shape[0]/df.shape[0]*100"
   ]
  },
  {
   "cell_type": "markdown",
   "metadata": {},
   "source": [
    "Таргер признак <b>Price</b>"
   ]
  },
  {
   "cell_type": "code",
   "execution_count": 8,
   "metadata": {
    "scrolled": true
   },
   "outputs": [
    {
     "data": {
      "text/plain": [
       "4416.656775846645"
      ]
     },
     "execution_count": 8,
     "metadata": {},
     "output_type": "execute_result"
    },
    {
     "data": {
      "image/png": "[encoded data removed]",
      "text/plain": [
       "<Figure size 432x288 with 1 Axes>"
      ]
     },
     "metadata": {
      "needs_background": "light"
     },
     "output_type": "display_data"
    }
   ],
   "source": [
    "sns.boxplot(x = data['Price'])\n",
    "data.Price.mean()"
   ]
  },
  {
   "cell_type": "code",
   "execution_count": 9,
   "metadata": {
    "scrolled": true
   },
   "outputs": [
    {
     "data": {
      "text/plain": [
       "<matplotlib.axes._subplots.AxesSubplot at 0x7f7d9695ae50>"
      ]
     },
     "execution_count": 9,
     "metadata": {},
     "output_type": "execute_result"
    },
    {
     "data": {
      "image/png": "[encoded data removed]",
      "text/plain": [
       "<Figure size 432x288 with 1 Axes>"
      ]
     },
     "metadata": {
      "needs_background": "light"
     },
     "output_type": "display_data"
    }
   ],
   "source": [
    "sns.distplot(data['Price'])"
   ]
  },
  {
   "cell_type": "markdown",
   "metadata": {},
   "source": [
    "Как уже было описано выше - будем удалять значения target признака, которые равны нулю, так как цена не может быть равной нулю."
   ]
  },
  {
   "cell_type": "code",
   "execution_count": 10,
   "metadata": {},
   "outputs": [
    {
     "data": {
      "text/plain": [
       "4.048040319553911"
      ]
     },
     "execution_count": 10,
     "metadata": {},
     "output_type": "execute_result"
    }
   ],
   "source": [
    "data[data['Price'] <= 100]['Price'].count()/data.shape[0]*100"
   ]
  },
  {
   "cell_type": "markdown",
   "metadata": {},
   "source": [
    "3.4% подобных данных не так много, поэтому удаляем."
   ]
  },
  {
   "cell_type": "code",
   "execution_count": 11,
   "metadata": {},
   "outputs": [
    {
     "data": {
      "text/plain": [
       "(340024, 15)"
      ]
     },
     "execution_count": 11,
     "metadata": {},
     "output_type": "execute_result"
    }
   ],
   "source": [
    "data = data.drop(data.query('Price<=100').index)\n",
    "data.shape"
   ]
  },
  {
   "cell_type": "markdown",
   "metadata": {},
   "source": [
    "# UPD_0_end:"
   ]
  },
  {
   "cell_type": "code",
   "execution_count": 12,
   "metadata": {},
   "outputs": [
    {
     "data": {
      "text/html": [
       "<div>\n",
       "<style scoped>\n",
       "    .dataframe tbody tr th:only-of-type {\n",
       "        vertical-align: middle;\n",
       "    }\n",
       "\n",
       "    .dataframe tbody tr th {\n",
       "        vertical-align: top;\n",
       "    }\n",
       "\n",
       "    .dataframe thead th {\n",
       "        text-align: right;\n",
       "    }\n",
       "</style>\n",
       "<table border=\"1\" class=\"dataframe\">\n",
       "  <thead>\n",
       "    <tr style=\"text-align: right;\">\n",
       "      <th></th>\n",
       "      <th>DateCrawled</th>\n",
       "      <th>Price</th>\n",
       "      <th>VehicleType</th>\n",
       "      <th>RegistrationYear</th>\n",
       "      <th>Gearbox</th>\n",
       "      <th>Power</th>\n",
       "      <th>Model</th>\n",
       "      <th>Kilometer</th>\n",
       "      <th>RegistrationMonth</th>\n",
       "      <th>FuelType</th>\n",
       "      <th>Brand</th>\n",
       "      <th>NotRepaired</th>\n",
       "      <th>DateCreated</th>\n",
       "      <th>PostalCode</th>\n",
       "      <th>LastSeen</th>\n",
       "    </tr>\n",
       "  </thead>\n",
       "  <tbody>\n",
       "    <tr>\n",
       "      <td>0</td>\n",
       "      <td>2016-03-24 11:52:17</td>\n",
       "      <td>480</td>\n",
       "      <td>NaN</td>\n",
       "      <td>1993</td>\n",
       "      <td>manual</td>\n",
       "      <td>0</td>\n",
       "      <td>golf</td>\n",
       "      <td>150000</td>\n",
       "      <td>0</td>\n",
       "      <td>petrol</td>\n",
       "      <td>volkswagen</td>\n",
       "      <td>NaN</td>\n",
       "      <td>2016-03-24</td>\n",
       "      <td>70435</td>\n",
       "      <td>2016-04-07 03:16:57</td>\n",
       "    </tr>\n",
       "    <tr>\n",
       "      <td>1</td>\n",
       "      <td>2016-03-24 10:58:45</td>\n",
       "      <td>18300</td>\n",
       "      <td>coupe</td>\n",
       "      <td>2011</td>\n",
       "      <td>manual</td>\n",
       "      <td>190</td>\n",
       "      <td>NaN</td>\n",
       "      <td>125000</td>\n",
       "      <td>5</td>\n",
       "      <td>gasoline</td>\n",
       "      <td>audi</td>\n",
       "      <td>yes</td>\n",
       "      <td>2016-03-24</td>\n",
       "      <td>66954</td>\n",
       "      <td>2016-04-07 01:46:50</td>\n",
       "    </tr>\n",
       "    <tr>\n",
       "      <td>2</td>\n",
       "      <td>2016-03-14 12:52:21</td>\n",
       "      <td>9800</td>\n",
       "      <td>suv</td>\n",
       "      <td>2004</td>\n",
       "      <td>auto</td>\n",
       "      <td>163</td>\n",
       "      <td>grand</td>\n",
       "      <td>125000</td>\n",
       "      <td>8</td>\n",
       "      <td>gasoline</td>\n",
       "      <td>jeep</td>\n",
       "      <td>NaN</td>\n",
       "      <td>2016-03-14</td>\n",
       "      <td>90480</td>\n",
       "      <td>2016-04-05 12:47:46</td>\n",
       "    </tr>\n",
       "    <tr>\n",
       "      <td>3</td>\n",
       "      <td>2016-03-17 16:54:04</td>\n",
       "      <td>1500</td>\n",
       "      <td>small</td>\n",
       "      <td>2001</td>\n",
       "      <td>manual</td>\n",
       "      <td>75</td>\n",
       "      <td>golf</td>\n",
       "      <td>150000</td>\n",
       "      <td>6</td>\n",
       "      <td>petrol</td>\n",
       "      <td>volkswagen</td>\n",
       "      <td>no</td>\n",
       "      <td>2016-03-17</td>\n",
       "      <td>91074</td>\n",
       "      <td>2016-03-17 17:40:17</td>\n",
       "    </tr>\n",
       "    <tr>\n",
       "      <td>4</td>\n",
       "      <td>2016-03-31 17:25:20</td>\n",
       "      <td>3600</td>\n",
       "      <td>small</td>\n",
       "      <td>2008</td>\n",
       "      <td>manual</td>\n",
       "      <td>69</td>\n",
       "      <td>fabia</td>\n",
       "      <td>90000</td>\n",
       "      <td>7</td>\n",
       "      <td>gasoline</td>\n",
       "      <td>skoda</td>\n",
       "      <td>no</td>\n",
       "      <td>2016-03-31</td>\n",
       "      <td>60437</td>\n",
       "      <td>2016-04-06 10:17:21</td>\n",
       "    </tr>\n",
       "  </tbody>\n",
       "</table>\n",
       "</div>"
      ],
      "text/plain": [
       "          DateCrawled  Price VehicleType  RegistrationYear Gearbox  Power  \\\n",
       "0 2016-03-24 11:52:17    480         NaN              1993  manual      0   \n",
       "1 2016-03-24 10:58:45  18300       coupe              2011  manual    190   \n",
       "2 2016-03-14 12:52:21   9800         suv              2004    auto    163   \n",
       "3 2016-03-17 16:54:04   1500       small              2001  manual     75   \n",
       "4 2016-03-31 17:25:20   3600       small              2008  manual     69   \n",
       "\n",
       "   Model  Kilometer  RegistrationMonth  FuelType       Brand NotRepaired  \\\n",
       "0   golf     150000                  0    petrol  volkswagen         NaN   \n",
       "1    NaN     125000                  5  gasoline        audi         yes   \n",
       "2  grand     125000                  8  gasoline        jeep         NaN   \n",
       "3   golf     150000                  6    petrol  volkswagen          no   \n",
       "4  fabia      90000                  7  gasoline       skoda          no   \n",
       "\n",
       "  DateCreated  PostalCode            LastSeen  \n",
       "0  2016-03-24       70435 2016-04-07 03:16:57  \n",
       "1  2016-03-24       66954 2016-04-07 01:46:50  \n",
       "2  2016-03-14       90480 2016-04-05 12:47:46  \n",
       "3  2016-03-17       91074 2016-03-17 17:40:17  \n",
       "4  2016-03-31       60437 2016-04-06 10:17:21  "
      ]
     },
     "metadata": {},
     "output_type": "display_data"
    }
   ],
   "source": [
    "display(data.head())"
   ]
  },
  {
   "cell_type": "code",
   "execution_count": 13,
   "metadata": {
    "scrolled": true
   },
   "outputs": [
    {
     "data": {
      "text/plain": [
       "DateCrawled              0\n",
       "Price                    0\n",
       "VehicleType          32251\n",
       "RegistrationYear         0\n",
       "Gearbox              16085\n",
       "Power                    0\n",
       "Model                16889\n",
       "Kilometer                0\n",
       "RegistrationMonth        0\n",
       "FuelType             28004\n",
       "Brand                    0\n",
       "NotRepaired          63867\n",
       "DateCreated              0\n",
       "PostalCode               0\n",
       "LastSeen                 0\n",
       "dtype: int64"
      ]
     },
     "execution_count": 13,
     "metadata": {},
     "output_type": "execute_result"
    }
   ],
   "source": [
    "data.isna().sum()"
   ]
  },
  {
   "cell_type": "markdown",
   "metadata": {},
   "source": [
    "<b>Пропуска найдены в следующих фичах:</b>\n",
    "\n",
    "- VehicleType — тип автомобильного кузова\n",
    "\n",
    "- Gearbox — тип коробки передач\n",
    "\n",
    "- Model — модель автомобиля\n",
    "\n",
    "- FuelType — тип топлива\n",
    "\n",
    "- NotRepaired — была машина в ремонте или нет\n"
   ]
  },
  {
   "cell_type": "code",
   "execution_count": 14,
   "metadata": {},
   "outputs": [
    {
     "name": "stdout",
     "output_type": "stream",
     "text": [
      "                      Признак                       Всего пропусков    Пропусков (%)    \n",
      "                   DateCrawled                          0            0.00000      \n",
      "                      Price                             0            0.00000      \n",
      "                   VehicleType                        32251          9.48492      \n",
      "                 RegistrationYear                       0            0.00000      \n",
      "                     Gearbox                          16085          4.73055      \n",
      "                      Power                             0            0.00000      \n",
      "                      Model                           16889          4.96700      \n",
      "                    Kilometer                           0            0.00000      \n",
      "                RegistrationMonth                       0            0.00000      \n",
      "                     FuelType                         28004          8.23589      \n",
      "                      Brand                             0            0.00000      \n",
      "                   NotRepaired                        63867          18.78309     \n",
      "                   DateCreated                          0            0.00000      \n",
      "                    PostalCode                          0            0.00000      \n",
      "                     LastSeen                           0            0.00000      \n",
      "\n"
     ]
    }
   ],
   "source": [
    "def visual_df_nulls(df):\n",
    "    print('{:^52}{:^16}{:^20}'.format('Признак', 'Всего пропусков', 'Пропусков (%)'))\n",
    "    for col in df.columns:\n",
    "        missed_data_share = df[col].isnull().mean()*100\n",
    "        missed_data_count = df[col].isnull().sum()\n",
    "        print('{:^50}{:^14}{:^18.5f}'.format(col, missed_data_count, missed_data_share))\n",
    "\n",
    "visual_df_nulls(data)\n",
    "print()\n"
   ]
  },
  {
   "cell_type": "code",
   "execution_count": 15,
   "metadata": {},
   "outputs": [
    {
     "name": "stdout",
     "output_type": "stream",
     "text": [
      "DateCrawled          0\n",
      "Price                0\n",
      "VehicleType          0\n",
      "RegistrationYear     0\n",
      "Gearbox              0\n",
      "Power                0\n",
      "Model                0\n",
      "Kilometer            0\n",
      "RegistrationMonth    0\n",
      "FuelType             0\n",
      "Brand                0\n",
      "NotRepaired          0\n",
      "DateCreated          0\n",
      "PostalCode           0\n",
      "LastSeen             0\n",
      "dtype: int64\n"
     ]
    },
    {
     "data": {
      "text/html": [
       "<div>\n",
       "<style scoped>\n",
       "    .dataframe tbody tr th:only-of-type {\n",
       "        vertical-align: middle;\n",
       "    }\n",
       "\n",
       "    .dataframe tbody tr th {\n",
       "        vertical-align: top;\n",
       "    }\n",
       "\n",
       "    .dataframe thead th {\n",
       "        text-align: right;\n",
       "    }\n",
       "</style>\n",
       "<table border=\"1\" class=\"dataframe\">\n",
       "  <thead>\n",
       "    <tr style=\"text-align: right;\">\n",
       "      <th></th>\n",
       "      <th>DateCrawled</th>\n",
       "      <th>Price</th>\n",
       "      <th>VehicleType</th>\n",
       "      <th>RegistrationYear</th>\n",
       "      <th>Gearbox</th>\n",
       "      <th>Power</th>\n",
       "      <th>Model</th>\n",
       "      <th>Kilometer</th>\n",
       "      <th>RegistrationMonth</th>\n",
       "      <th>FuelType</th>\n",
       "      <th>Brand</th>\n",
       "      <th>NotRepaired</th>\n",
       "      <th>DateCreated</th>\n",
       "      <th>PostalCode</th>\n",
       "      <th>LastSeen</th>\n",
       "    </tr>\n",
       "  </thead>\n",
       "  <tbody>\n",
       "    <tr>\n",
       "      <td>0</td>\n",
       "      <td>2016-03-24 11:52:17</td>\n",
       "      <td>480</td>\n",
       "      <td>other_VehicleType</td>\n",
       "      <td>1993</td>\n",
       "      <td>manual</td>\n",
       "      <td>0</td>\n",
       "      <td>golf</td>\n",
       "      <td>150000</td>\n",
       "      <td>0</td>\n",
       "      <td>petrol</td>\n",
       "      <td>volkswagen</td>\n",
       "      <td>other_NotRepaired</td>\n",
       "      <td>2016-03-24</td>\n",
       "      <td>70435</td>\n",
       "      <td>2016-04-07 03:16:57</td>\n",
       "    </tr>\n",
       "    <tr>\n",
       "      <td>1</td>\n",
       "      <td>2016-03-24 10:58:45</td>\n",
       "      <td>18300</td>\n",
       "      <td>coupe</td>\n",
       "      <td>2011</td>\n",
       "      <td>manual</td>\n",
       "      <td>190</td>\n",
       "      <td>other_Model</td>\n",
       "      <td>125000</td>\n",
       "      <td>5</td>\n",
       "      <td>gasoline</td>\n",
       "      <td>audi</td>\n",
       "      <td>yes</td>\n",
       "      <td>2016-03-24</td>\n",
       "      <td>66954</td>\n",
       "      <td>2016-04-07 01:46:50</td>\n",
       "    </tr>\n",
       "    <tr>\n",
       "      <td>2</td>\n",
       "      <td>2016-03-14 12:52:21</td>\n",
       "      <td>9800</td>\n",
       "      <td>suv</td>\n",
       "      <td>2004</td>\n",
       "      <td>auto</td>\n",
       "      <td>163</td>\n",
       "      <td>grand</td>\n",
       "      <td>125000</td>\n",
       "      <td>8</td>\n",
       "      <td>gasoline</td>\n",
       "      <td>jeep</td>\n",
       "      <td>other_NotRepaired</td>\n",
       "      <td>2016-03-14</td>\n",
       "      <td>90480</td>\n",
       "      <td>2016-04-05 12:47:46</td>\n",
       "    </tr>\n",
       "    <tr>\n",
       "      <td>3</td>\n",
       "      <td>2016-03-17 16:54:04</td>\n",
       "      <td>1500</td>\n",
       "      <td>small</td>\n",
       "      <td>2001</td>\n",
       "      <td>manual</td>\n",
       "      <td>75</td>\n",
       "      <td>golf</td>\n",
       "      <td>150000</td>\n",
       "      <td>6</td>\n",
       "      <td>petrol</td>\n",
       "      <td>volkswagen</td>\n",
       "      <td>no</td>\n",
       "      <td>2016-03-17</td>\n",
       "      <td>91074</td>\n",
       "      <td>2016-03-17 17:40:17</td>\n",
       "    </tr>\n",
       "    <tr>\n",
       "      <td>4</td>\n",
       "      <td>2016-03-31 17:25:20</td>\n",
       "      <td>3600</td>\n",
       "      <td>small</td>\n",
       "      <td>2008</td>\n",
       "      <td>manual</td>\n",
       "      <td>69</td>\n",
       "      <td>fabia</td>\n",
       "      <td>90000</td>\n",
       "      <td>7</td>\n",
       "      <td>gasoline</td>\n",
       "      <td>skoda</td>\n",
       "      <td>no</td>\n",
       "      <td>2016-03-31</td>\n",
       "      <td>60437</td>\n",
       "      <td>2016-04-06 10:17:21</td>\n",
       "    </tr>\n",
       "  </tbody>\n",
       "</table>\n",
       "</div>"
      ],
      "text/plain": [
       "          DateCrawled  Price        VehicleType  RegistrationYear Gearbox  \\\n",
       "0 2016-03-24 11:52:17    480  other_VehicleType              1993  manual   \n",
       "1 2016-03-24 10:58:45  18300              coupe              2011  manual   \n",
       "2 2016-03-14 12:52:21   9800                suv              2004    auto   \n",
       "3 2016-03-17 16:54:04   1500              small              2001  manual   \n",
       "4 2016-03-31 17:25:20   3600              small              2008  manual   \n",
       "\n",
       "   Power        Model  Kilometer  RegistrationMonth  FuelType       Brand  \\\n",
       "0      0         golf     150000                  0    petrol  volkswagen   \n",
       "1    190  other_Model     125000                  5  gasoline        audi   \n",
       "2    163        grand     125000                  8  gasoline        jeep   \n",
       "3     75         golf     150000                  6    petrol  volkswagen   \n",
       "4     69        fabia      90000                  7  gasoline       skoda   \n",
       "\n",
       "         NotRepaired DateCreated  PostalCode            LastSeen  \n",
       "0  other_NotRepaired  2016-03-24       70435 2016-04-07 03:16:57  \n",
       "1                yes  2016-03-24       66954 2016-04-07 01:46:50  \n",
       "2  other_NotRepaired  2016-03-14       90480 2016-04-05 12:47:46  \n",
       "3                 no  2016-03-17       91074 2016-03-17 17:40:17  \n",
       "4                 no  2016-03-31       60437 2016-04-06 10:17:21  "
      ]
     },
     "metadata": {},
     "output_type": "display_data"
    }
   ],
   "source": [
    "data['VehicleType'] = data['VehicleType'].fillna('other_VehicleType')\n",
    "data['Gearbox'] = data['Gearbox'].fillna('other_Gearbox')\n",
    "data['Model'] = data['Model'].fillna('other_Model')\n",
    "data['FuelType'] = data['FuelType'].fillna('other_FuelType')\n",
    "data['NotRepaired'] = data['NotRepaired'].fillna('other_NotRepaired')\n",
    "print(data.isna().sum())\n",
    "display(data.head())"
   ]
  },
  {
   "cell_type": "code",
   "execution_count": 16,
   "metadata": {},
   "outputs": [],
   "source": [
    "#data['Model'].value_counts().count()"
   ]
  },
  {
   "cell_type": "code",
   "execution_count": 17,
   "metadata": {},
   "outputs": [],
   "source": [
    "#data['Brand'].value_counts().count()"
   ]
  },
  {
   "cell_type": "code",
   "execution_count": 18,
   "metadata": {
    "scrolled": true
   },
   "outputs": [
    {
     "data": {
      "text/plain": [
       "\"\\nprint(pd.get_dummies(data['VehicleType'], drop_first=False).head())\\nprint(pd.get_dummies(data['Gearbox'], drop_first=False).head())\\nprint(pd.get_dummies(data['Model'], drop_first=False).head())\\nprint(pd.get_dummies(data['FuelType'], drop_first=False).head())\\nprint(pd.get_dummies(data['Brand'], drop_first=False).head())\\nprint(pd.get_dummies(data['NotRepaired'], drop_first=False).head())\\n\""
      ]
     },
     "execution_count": 18,
     "metadata": {},
     "output_type": "execute_result"
    }
   ],
   "source": [
    "'''\n",
    "print(pd.get_dummies(data['VehicleType'], drop_first=False).head())\n",
    "print(pd.get_dummies(data['Gearbox'], drop_first=False).head())\n",
    "print(pd.get_dummies(data['Model'], drop_first=False).head())\n",
    "print(pd.get_dummies(data['FuelType'], drop_first=False).head())\n",
    "print(pd.get_dummies(data['Brand'], drop_first=False).head())\n",
    "print(pd.get_dummies(data['NotRepaired'], drop_first=False).head())\n",
    "'''"
   ]
  },
  {
   "cell_type": "code",
   "execution_count": 19,
   "metadata": {},
   "outputs": [
    {
     "data": {
      "text/plain": [
       "\"\\ndef code_myohe(data, feature):\\n    for i in data[feature].unique():\\n        data[feature + '=' + i] = (data[feature] == i).astype(float)\\ncode_myohe(data, 'VehicleType')\\ncode_myohe(data, 'Gearbox')\\ncode_myohe(data, 'Model')\\ncode_myohe(data, 'FuelType')\\ncode_myohe(data, 'Brand')\\ncode_myohe(data, 'NotRepaired')\\ndisplay(data.head())\\n\""
      ]
     },
     "execution_count": 19,
     "metadata": {},
     "output_type": "execute_result"
    }
   ],
   "source": [
    "'''\n",
    "def code_myohe(data, feature):\n",
    "    for i in data[feature].unique():\n",
    "        data[feature + '=' + i] = (data[feature] == i).astype(float)\n",
    "code_myohe(data, 'VehicleType')\n",
    "code_myohe(data, 'Gearbox')\n",
    "code_myohe(data, 'Model')\n",
    "code_myohe(data, 'FuelType')\n",
    "code_myohe(data, 'Brand')\n",
    "code_myohe(data, 'NotRepaired')\n",
    "display(data.head())\n",
    "'''"
   ]
  },
  {
   "cell_type": "markdown",
   "metadata": {},
   "source": [
    "<div class=\"alert alert-info\">\n",
    "<h1>Комментарий ревьюера <a class=\"tocSkip\"></a></h1>\n",
    "Круто, но зачем изобретать велосипед?)\n",
    "</div>"
   ]
  },
  {
   "cell_type": "code",
   "execution_count": 20,
   "metadata": {},
   "outputs": [
    {
     "data": {
      "text/plain": [
       "\"\\ndata = data.drop(['VehicleType', 'Gearbox', 'Model', 'FuelType', 'Brand', 'NotRepaired'], axis = 1)\\ndisplay(data.head())\\n\""
      ]
     },
     "execution_count": 20,
     "metadata": {},
     "output_type": "execute_result"
    }
   ],
   "source": [
    "'''\n",
    "data = data.drop(['VehicleType', 'Gearbox', 'Model', 'FuelType', 'Brand', 'NotRepaired'], axis = 1)\n",
    "display(data.head())\n",
    "'''"
   ]
  },
  {
   "cell_type": "code",
   "execution_count": 21,
   "metadata": {},
   "outputs": [
    {
     "data": {
      "text/plain": [
       "\"\\nX = data.drop(['Price'], axis = 1)\\ny = data['Price']\\nfeatures_train, features_test, target_train, target_test = train_test_split(X, y, test_size=0.25, random_state=12345)\\n\""
      ]
     },
     "execution_count": 21,
     "metadata": {},
     "output_type": "execute_result"
    }
   ],
   "source": [
    "'''\n",
    "X = data.drop(['Price'], axis = 1)\n",
    "y = data['Price']\n",
    "features_train, features_test, target_train, target_test = train_test_split(X, y, test_size=0.25, random_state=12345)\n",
    "'''"
   ]
  },
  {
   "cell_type": "markdown",
   "metadata": {},
   "source": [
    "<b>UPD_0:</b> в данном случае решил применить LabelEncoder вместо OHE."
   ]
  },
  {
   "cell_type": "code",
   "execution_count": 22,
   "metadata": {},
   "outputs": [],
   "source": [
    "VT_index = data.query('VehicleType==VehicleType')['VehicleType'].index\n",
    "\n",
    "Gearbox_index = data.query('Gearbox==Gearbox')['Gearbox'].index\n",
    "\n",
    "Model_index = data.query('Model==Model')['Model'].index\n",
    "\n",
    "FuelType_index = data.query('FuelType==FuelType')['FuelType'].index\n",
    "\n",
    "Brand_index = data.query('Brand==Brand')['Brand'].index\n",
    "\n",
    "NotRepaired_index = data.query('NotRepaired==NotRepaired')['NotRepaired'].index"
   ]
  },
  {
   "cell_type": "code",
   "execution_count": 23,
   "metadata": {},
   "outputs": [],
   "source": [
    "from sklearn import preprocessing\n",
    "le = preprocessing.LabelEncoder()"
   ]
  },
  {
   "cell_type": "code",
   "execution_count": 24,
   "metadata": {},
   "outputs": [
    {
     "data": {
      "text/html": [
       "<div>\n",
       "<style scoped>\n",
       "    .dataframe tbody tr th:only-of-type {\n",
       "        vertical-align: middle;\n",
       "    }\n",
       "\n",
       "    .dataframe tbody tr th {\n",
       "        vertical-align: top;\n",
       "    }\n",
       "\n",
       "    .dataframe thead th {\n",
       "        text-align: right;\n",
       "    }\n",
       "</style>\n",
       "<table border=\"1\" class=\"dataframe\">\n",
       "  <thead>\n",
       "    <tr style=\"text-align: right;\">\n",
       "      <th></th>\n",
       "      <th>DateCrawled</th>\n",
       "      <th>Price</th>\n",
       "      <th>VehicleType</th>\n",
       "      <th>RegistrationYear</th>\n",
       "      <th>Gearbox</th>\n",
       "      <th>Power</th>\n",
       "      <th>Model</th>\n",
       "      <th>Kilometer</th>\n",
       "      <th>RegistrationMonth</th>\n",
       "      <th>FuelType</th>\n",
       "      <th>Brand</th>\n",
       "      <th>NotRepaired</th>\n",
       "      <th>DateCreated</th>\n",
       "      <th>PostalCode</th>\n",
       "      <th>LastSeen</th>\n",
       "    </tr>\n",
       "  </thead>\n",
       "  <tbody>\n",
       "    <tr>\n",
       "      <td>0</td>\n",
       "      <td>2016-03-24 11:52:17</td>\n",
       "      <td>480</td>\n",
       "      <td>4</td>\n",
       "      <td>1993</td>\n",
       "      <td>1</td>\n",
       "      <td>0</td>\n",
       "      <td>116</td>\n",
       "      <td>150000</td>\n",
       "      <td>0</td>\n",
       "      <td>7</td>\n",
       "      <td>38</td>\n",
       "      <td>1</td>\n",
       "      <td>2016-03-24</td>\n",
       "      <td>70435</td>\n",
       "      <td>2016-04-07 03:16:57</td>\n",
       "    </tr>\n",
       "    <tr>\n",
       "      <td>1</td>\n",
       "      <td>2016-03-24 10:58:45</td>\n",
       "      <td>18300</td>\n",
       "      <td>2</td>\n",
       "      <td>2011</td>\n",
       "      <td>1</td>\n",
       "      <td>190</td>\n",
       "      <td>167</td>\n",
       "      <td>125000</td>\n",
       "      <td>5</td>\n",
       "      <td>2</td>\n",
       "      <td>1</td>\n",
       "      <td>2</td>\n",
       "      <td>2016-03-24</td>\n",
       "      <td>66954</td>\n",
       "      <td>2016-04-07 01:46:50</td>\n",
       "    </tr>\n",
       "    <tr>\n",
       "      <td>2</td>\n",
       "      <td>2016-03-14 12:52:21</td>\n",
       "      <td>9800</td>\n",
       "      <td>7</td>\n",
       "      <td>2004</td>\n",
       "      <td>0</td>\n",
       "      <td>163</td>\n",
       "      <td>117</td>\n",
       "      <td>125000</td>\n",
       "      <td>8</td>\n",
       "      <td>2</td>\n",
       "      <td>14</td>\n",
       "      <td>1</td>\n",
       "      <td>2016-03-14</td>\n",
       "      <td>90480</td>\n",
       "      <td>2016-04-05 12:47:46</td>\n",
       "    </tr>\n",
       "    <tr>\n",
       "      <td>3</td>\n",
       "      <td>2016-03-17 16:54:04</td>\n",
       "      <td>1500</td>\n",
       "      <td>6</td>\n",
       "      <td>2001</td>\n",
       "      <td>1</td>\n",
       "      <td>75</td>\n",
       "      <td>116</td>\n",
       "      <td>150000</td>\n",
       "      <td>6</td>\n",
       "      <td>7</td>\n",
       "      <td>38</td>\n",
       "      <td>0</td>\n",
       "      <td>2016-03-17</td>\n",
       "      <td>91074</td>\n",
       "      <td>2016-03-17 17:40:17</td>\n",
       "    </tr>\n",
       "    <tr>\n",
       "      <td>4</td>\n",
       "      <td>2016-03-31 17:25:20</td>\n",
       "      <td>3600</td>\n",
       "      <td>6</td>\n",
       "      <td>2008</td>\n",
       "      <td>1</td>\n",
       "      <td>69</td>\n",
       "      <td>101</td>\n",
       "      <td>90000</td>\n",
       "      <td>7</td>\n",
       "      <td>2</td>\n",
       "      <td>31</td>\n",
       "      <td>0</td>\n",
       "      <td>2016-03-31</td>\n",
       "      <td>60437</td>\n",
       "      <td>2016-04-06 10:17:21</td>\n",
       "    </tr>\n",
       "  </tbody>\n",
       "</table>\n",
       "</div>"
      ],
      "text/plain": [
       "          DateCrawled  Price  VehicleType  RegistrationYear  Gearbox  Power  \\\n",
       "0 2016-03-24 11:52:17    480            4              1993        1      0   \n",
       "1 2016-03-24 10:58:45  18300            2              2011        1    190   \n",
       "2 2016-03-14 12:52:21   9800            7              2004        0    163   \n",
       "3 2016-03-17 16:54:04   1500            6              2001        1     75   \n",
       "4 2016-03-31 17:25:20   3600            6              2008        1     69   \n",
       "\n",
       "   Model  Kilometer  RegistrationMonth  FuelType  Brand  NotRepaired  \\\n",
       "0    116     150000                  0         7     38            1   \n",
       "1    167     125000                  5         2      1            2   \n",
       "2    117     125000                  8         2     14            1   \n",
       "3    116     150000                  6         7     38            0   \n",
       "4    101      90000                  7         2     31            0   \n",
       "\n",
       "  DateCreated  PostalCode            LastSeen  \n",
       "0  2016-03-24       70435 2016-04-07 03:16:57  \n",
       "1  2016-03-24       66954 2016-04-07 01:46:50  \n",
       "2  2016-03-14       90480 2016-04-05 12:47:46  \n",
       "3  2016-03-17       91074 2016-03-17 17:40:17  \n",
       "4  2016-03-31       60437 2016-04-06 10:17:21  "
      ]
     },
     "execution_count": 24,
     "metadata": {},
     "output_type": "execute_result"
    }
   ],
   "source": [
    "data.loc[VT_index, 'VehicleType'] = le.fit_transform(data.loc[VT_index, 'VehicleType'])\n",
    "\n",
    "data.loc[Gearbox_index, 'Gearbox'] = le.fit_transform(data.loc[Gearbox_index, 'Gearbox'])\n",
    "\n",
    "data.loc[Model_index, 'Model'] = le.fit_transform(data.loc[Model_index, 'Model'])\n",
    "\n",
    "data.loc[FuelType_index, 'FuelType'] = le.fit_transform(data.loc[FuelType_index, 'FuelType'])\n",
    "\n",
    "data.loc[Brand_index, 'Brand'] = le.fit_transform(data.loc[Brand_index, 'Brand'])\n",
    "\n",
    "data.loc[NotRepaired_index, 'NotRepaired'] = le.fit_transform(data.loc[NotRepaired_index, 'NotRepaired'])\n",
    "\n",
    "data.head()"
   ]
  },
  {
   "cell_type": "code",
   "execution_count": 25,
   "metadata": {},
   "outputs": [
    {
     "data": {
      "text/html": [
       "<div>\n",
       "<style scoped>\n",
       "    .dataframe tbody tr th:only-of-type {\n",
       "        vertical-align: middle;\n",
       "    }\n",
       "\n",
       "    .dataframe tbody tr th {\n",
       "        vertical-align: top;\n",
       "    }\n",
       "\n",
       "    .dataframe thead th {\n",
       "        text-align: right;\n",
       "    }\n",
       "</style>\n",
       "<table border=\"1\" class=\"dataframe\">\n",
       "  <thead>\n",
       "    <tr style=\"text-align: right;\">\n",
       "      <th></th>\n",
       "      <th>Price</th>\n",
       "      <th>VehicleType</th>\n",
       "      <th>RegistrationYear</th>\n",
       "      <th>Gearbox</th>\n",
       "      <th>Power</th>\n",
       "      <th>Model</th>\n",
       "      <th>Kilometer</th>\n",
       "      <th>RegistrationMonth</th>\n",
       "      <th>FuelType</th>\n",
       "      <th>Brand</th>\n",
       "      <th>NotRepaired</th>\n",
       "      <th>PostalCode</th>\n",
       "    </tr>\n",
       "  </thead>\n",
       "  <tbody>\n",
       "    <tr>\n",
       "      <td>0</td>\n",
       "      <td>480</td>\n",
       "      <td>4</td>\n",
       "      <td>1993</td>\n",
       "      <td>1</td>\n",
       "      <td>0</td>\n",
       "      <td>116</td>\n",
       "      <td>150000</td>\n",
       "      <td>0</td>\n",
       "      <td>7</td>\n",
       "      <td>38</td>\n",
       "      <td>1</td>\n",
       "      <td>70435</td>\n",
       "    </tr>\n",
       "    <tr>\n",
       "      <td>1</td>\n",
       "      <td>18300</td>\n",
       "      <td>2</td>\n",
       "      <td>2011</td>\n",
       "      <td>1</td>\n",
       "      <td>190</td>\n",
       "      <td>167</td>\n",
       "      <td>125000</td>\n",
       "      <td>5</td>\n",
       "      <td>2</td>\n",
       "      <td>1</td>\n",
       "      <td>2</td>\n",
       "      <td>66954</td>\n",
       "    </tr>\n",
       "    <tr>\n",
       "      <td>2</td>\n",
       "      <td>9800</td>\n",
       "      <td>7</td>\n",
       "      <td>2004</td>\n",
       "      <td>0</td>\n",
       "      <td>163</td>\n",
       "      <td>117</td>\n",
       "      <td>125000</td>\n",
       "      <td>8</td>\n",
       "      <td>2</td>\n",
       "      <td>14</td>\n",
       "      <td>1</td>\n",
       "      <td>90480</td>\n",
       "    </tr>\n",
       "    <tr>\n",
       "      <td>3</td>\n",
       "      <td>1500</td>\n",
       "      <td>6</td>\n",
       "      <td>2001</td>\n",
       "      <td>1</td>\n",
       "      <td>75</td>\n",
       "      <td>116</td>\n",
       "      <td>150000</td>\n",
       "      <td>6</td>\n",
       "      <td>7</td>\n",
       "      <td>38</td>\n",
       "      <td>0</td>\n",
       "      <td>91074</td>\n",
       "    </tr>\n",
       "    <tr>\n",
       "      <td>4</td>\n",
       "      <td>3600</td>\n",
       "      <td>6</td>\n",
       "      <td>2008</td>\n",
       "      <td>1</td>\n",
       "      <td>69</td>\n",
       "      <td>101</td>\n",
       "      <td>90000</td>\n",
       "      <td>7</td>\n",
       "      <td>2</td>\n",
       "      <td>31</td>\n",
       "      <td>0</td>\n",
       "      <td>60437</td>\n",
       "    </tr>\n",
       "  </tbody>\n",
       "</table>\n",
       "</div>"
      ],
      "text/plain": [
       "   Price  VehicleType  RegistrationYear  Gearbox  Power  Model  Kilometer  \\\n",
       "0    480            4              1993        1      0    116     150000   \n",
       "1  18300            2              2011        1    190    167     125000   \n",
       "2   9800            7              2004        0    163    117     125000   \n",
       "3   1500            6              2001        1     75    116     150000   \n",
       "4   3600            6              2008        1     69    101      90000   \n",
       "\n",
       "   RegistrationMonth  FuelType  Brand  NotRepaired  PostalCode  \n",
       "0                  0         7     38            1       70435  \n",
       "1                  5         2      1            2       66954  \n",
       "2                  8         2     14            1       90480  \n",
       "3                  6         7     38            0       91074  \n",
       "4                  7         2     31            0       60437  "
      ]
     },
     "execution_count": 25,
     "metadata": {},
     "output_type": "execute_result"
    }
   ],
   "source": [
    "data = data.drop(['DateCrawled', 'DateCreated', 'LastSeen'], axis = 1)\n",
    "data.head()"
   ]
  },
  {
   "cell_type": "markdown",
   "metadata": {},
   "source": [
    "<b>Работа с выбросами</b>"
   ]
  },
  {
   "cell_type": "code",
   "execution_count": 26,
   "metadata": {},
   "outputs": [
    {
     "data": {
      "text/plain": [
       "<matplotlib.axes._subplots.AxesSubplot at 0x7f7d9527a310>"
      ]
     },
     "execution_count": 26,
     "metadata": {},
     "output_type": "execute_result"
    },
    {
     "data": {
      "image/png": "[encoded data removed]",
      "text/plain": [
       "<Figure size 432x288 with 1 Axes>"
      ]
     },
     "metadata": {
      "needs_background": "light"
     },
     "output_type": "display_data"
    }
   ],
   "source": [
    "sns.distplot(data.Kilometer)"
   ]
  },
  {
   "cell_type": "markdown",
   "metadata": {},
   "source": [
    "Максимальный пробег около 150000 км. Возможно тот, кто выгружал нам эти данные так ограничивал, поэтому трогать не будем."
   ]
  },
  {
   "cell_type": "code",
   "execution_count": 27,
   "metadata": {},
   "outputs": [
    {
     "data": {
      "text/plain": [
       "9.170235042232314"
      ]
     },
     "execution_count": 27,
     "metadata": {},
     "output_type": "execute_result"
    }
   ],
   "source": [
    "part_of_value(df1=data.query('RegistrationMonth==0'), df=data)"
   ]
  },
  {
   "cell_type": "code",
   "execution_count": 28,
   "metadata": {},
   "outputs": [
    {
     "data": {
      "text/plain": [
       "<matplotlib.axes._subplots.AxesSubplot at 0x7f7d972c9ed0>"
      ]
     },
     "execution_count": 28,
     "metadata": {},
     "output_type": "execute_result"
    },
    {
     "data": {
      "image/png": "[encoded data removed]",
      "text/plain": [
       "<Figure size 432x288 with 1 Axes>"
      ]
     },
     "metadata": {
      "needs_background": "light"
     },
     "output_type": "display_data"
    }
   ],
   "source": [
    "sns.distplot(data.RegistrationMonth)"
   ]
  },
  {
   "cell_type": "code",
   "execution_count": null,
   "metadata": {},
   "outputs": [],
   "source": []
  },
  {
   "cell_type": "code",
   "execution_count": 29,
   "metadata": {},
   "outputs": [
    {
     "data": {
      "text/plain": [
       "31181"
      ]
     },
     "execution_count": 29,
     "metadata": {},
     "output_type": "execute_result"
    }
   ],
   "source": [
    "data.query('RegistrationMonth==0').shape[0]"
   ]
  },
  {
   "cell_type": "code",
   "execution_count": 30,
   "metadata": {},
   "outputs": [],
   "source": [
    "frac_list = []\n",
    "for i in range(1,13):\n",
    "    frac = data.query('RegistrationMonth==@i').shape[0]/(data.shape[0]-data.query('RegistrationMonth==0').shape[0])\n",
    "    n_size = round(data.query('RegistrationMonth==0').shape[0]*frac)\n",
    "    frac_list.append(n_size)"
   ]
  },
  {
   "cell_type": "code",
   "execution_count": 31,
   "metadata": {},
   "outputs": [
    {
     "data": {
      "text/plain": [
       "0"
      ]
     },
     "execution_count": 31,
     "metadata": {},
     "output_type": "execute_result"
    }
   ],
   "source": [
    "tmp = sum(frac_list)-data.query('RegistrationMonth==0').shape[0]\n",
    "\n",
    "tmp"
   ]
  },
  {
   "cell_type": "code",
   "execution_count": 32,
   "metadata": {},
   "outputs": [],
   "source": [
    "all_idx = np.array(data.query('RegistrationMonth==0').index)\n",
    "for month, i in enumerate(frac_list):\n",
    "    idx = np.random.choice(all_idx, size = i, replace = False)\n",
    "    data.loc[idx, 'RegistrationMonth'] = (month+1)\n",
    "    all_idx = all_idx[~np.isin(all_idx, idx)]"
   ]
  },
  {
   "cell_type": "code",
   "execution_count": 33,
   "metadata": {},
   "outputs": [
    {
     "data": {
      "text/plain": [
       "<matplotlib.axes._subplots.AxesSubplot at 0x7f7d96be70d0>"
      ]
     },
     "execution_count": 33,
     "metadata": {},
     "output_type": "execute_result"
    },
    {
     "data": {
      "image/png": "[encoded data removed]",
      "text/plain": [
       "<Figure size 432x288 with 1 Axes>"
      ]
     },
     "metadata": {
      "needs_background": "light"
     },
     "output_type": "display_data"
    }
   ],
   "source": [
    "sns.distplot(data.RegistrationMonth)"
   ]
  },
  {
   "cell_type": "code",
   "execution_count": 34,
   "metadata": {},
   "outputs": [
    {
     "data": {
      "text/plain": [
       "0.0"
      ]
     },
     "execution_count": 34,
     "metadata": {},
     "output_type": "execute_result"
    }
   ],
   "source": [
    "part_of_value(df1 = data.query('RegistrationMonth==0'), df = data)"
   ]
  },
  {
   "cell_type": "markdown",
   "metadata": {},
   "source": [
    "На данном этапе мы перераспределили значения параметра RegistrationMonth, которые равнялись нулю."
   ]
  },
  {
   "cell_type": "code",
   "execution_count": 35,
   "metadata": {},
   "outputs": [
    {
     "name": "stdout",
     "output_type": "stream",
     "text": [
      "--------------------------------------------------\n",
      "<class 'pandas.core.frame.DataFrame'>\n",
      "Int64Index: 340024 entries, 0 to 354368\n",
      "Data columns (total 12 columns):\n",
      "Price                340024 non-null int64\n",
      "VehicleType          340024 non-null int64\n",
      "RegistrationYear     340024 non-null int64\n",
      "Gearbox              340024 non-null int64\n",
      "Power                340024 non-null int64\n",
      "Model                340024 non-null int64\n",
      "Kilometer            340024 non-null int64\n",
      "RegistrationMonth    340024 non-null int64\n",
      "FuelType             340024 non-null int64\n",
      "Brand                340024 non-null int64\n",
      "NotRepaired          340024 non-null int64\n",
      "PostalCode           340024 non-null int64\n",
      "dtypes: int64(12)\n",
      "memory usage: 43.7 MB\n",
      "Описание количественных переменных\n",
      "               Price    VehicleType  RegistrationYear        Gearbox  \\\n",
      "count  340024.000000  340024.000000     340024.000000  340024.000000   \n",
      "mean     4602.471902       4.956638       2003.976778       0.857260   \n",
      "std      4514.902742       2.364740         69.885174       0.465808   \n",
      "min       101.000000       0.000000       1000.000000       0.000000   \n",
      "25%      1200.000000       4.000000       1999.000000       1.000000   \n",
      "50%      2900.000000       5.000000       2003.000000       1.000000   \n",
      "max     20000.000000       8.000000       9999.000000       2.000000   \n",
      "\n",
      "               Power          Model      Kilometer  RegistrationMonth  \\\n",
      "count  340024.000000  340024.000000  340024.000000      340024.000000   \n",
      "mean      111.585453     112.079271  128500.620544           6.392266   \n",
      "std       188.496485      70.361998   37213.956176           3.348695   \n",
      "min         0.000000       0.000000    5000.000000           1.000000   \n",
      "25%        70.000000      42.000000  125000.000000           4.000000   \n",
      "50%       105.000000     116.000000  150000.000000           6.000000   \n",
      "max     20000.000000     250.000000  150000.000000          12.000000   \n",
      "\n",
      "            FuelType          Brand    NotRepaired     PostalCode  \n",
      "count  340024.000000  340024.000000  340024.000000  340024.000000  \n",
      "mean        5.430752      20.867445       0.382482   50703.115257  \n",
      "std         2.232057      13.296437       0.656385   25721.449527  \n",
      "min         0.000000       0.000000       0.000000    1067.000000  \n",
      "25%         2.000000       9.000000       0.000000   30455.000000  \n",
      "50%         7.000000      24.000000       0.000000   49536.000000  \n",
      "max         7.000000      39.000000       2.000000   99998.000000  \n",
      "--------------------------------------------------\n",
      "Количество дубликатов в таблице = 19449\n"
     ]
    }
   ],
   "source": [
    "data_info(data)"
   ]
  },
  {
   "cell_type": "markdown",
   "metadata": {},
   "source": [
    "<b>Промежуточные итоги:</b>\n",
    "\n",
    "- удалили чуть больше 4% данных\n",
    "- в конце получилось слишком много дубликатов, но это просто совпадение данных, поэтому ничего с этим делать не будем, оставим и будем двигаться дальше."
   ]
  },
  {
   "cell_type": "markdown",
   "metadata": {},
   "source": [
    "## Обучение моделей"
   ]
  },
  {
   "cell_type": "code",
   "execution_count": 36,
   "metadata": {},
   "outputs": [
    {
     "data": {
      "text/plain": [
       "'\\nfrom sklearn.metrics import r2_score\\n\\nclass SGDLinearRegression:\\n    def __init__(self, step_size, epochs, batch_size):\\n        self.step_size = step_size\\n        self.epochs = epochs\\n        self.batch_size = batch_size\\n    def fit(self, train_features, train_target):\\n        X = np.concatenate((np.ones((train_features.shape[0], 1)), train_features), axis=1)        \\n        y = train_target\\n        w = np.zeros(X.shape[1])\\n        for _ in range(self.epochs):\\n            batches_count = X.shape[0] // self.batch_size\\n            for i in range(batches_count):\\n                begin = i * self.batch_size\\n                end = (i + 1) * self.batch_size\\n                X_batch = X[begin:end, :]\\n                y_batch = y[begin:end]\\n                gradient = 2 * X_batch.T.dot(X_batch.dot(w) - y_batch) / X_batch.shape[0]\\n                w = w - self.step_size * gradient\\n        self.w = w[1:]\\n        self.w0 = w[0]\\n    def predict(self, test_features):\\n        return test_features.dot(self.w) + self.w0\\n\\nmodel = SGDLinearRegression(0.01, 10, 100)\\nmodel.fit(features_train, target_train)\\npred_train = model.predict(features_train)\\npred_test = model.predict(features_test)\\nprint(r2_score(target_train, pred_train).round(5))\\nprint(r2_score(target_test, pred_test).round(5))\\n'"
      ]
     },
     "execution_count": 36,
     "metadata": {},
     "output_type": "execute_result"
    }
   ],
   "source": [
    "'''\n",
    "from sklearn.metrics import r2_score\n",
    "\n",
    "class SGDLinearRegression:\n",
    "    def __init__(self, step_size, epochs, batch_size):\n",
    "        self.step_size = step_size\n",
    "        self.epochs = epochs\n",
    "        self.batch_size = batch_size\n",
    "    def fit(self, train_features, train_target):\n",
    "        X = np.concatenate((np.ones((train_features.shape[0], 1)), train_features), axis=1)        \n",
    "        y = train_target\n",
    "        w = np.zeros(X.shape[1])\n",
    "        for _ in range(self.epochs):\n",
    "            batches_count = X.shape[0] // self.batch_size\n",
    "            for i in range(batches_count):\n",
    "                begin = i * self.batch_size\n",
    "                end = (i + 1) * self.batch_size\n",
    "                X_batch = X[begin:end, :]\n",
    "                y_batch = y[begin:end]\n",
    "                gradient = 2 * X_batch.T.dot(X_batch.dot(w) - y_batch) / X_batch.shape[0]\n",
    "                w = w - self.step_size * gradient\n",
    "        self.w = w[1:]\n",
    "        self.w0 = w[0]\n",
    "    def predict(self, test_features):\n",
    "        return test_features.dot(self.w) + self.w0\n",
    "\n",
    "model = SGDLinearRegression(0.01, 10, 100)\n",
    "model.fit(features_train, target_train)\n",
    "pred_train = model.predict(features_train)\n",
    "pred_test = model.predict(features_test)\n",
    "print(r2_score(target_train, pred_train).round(5))\n",
    "print(r2_score(target_test, pred_test).round(5))\n",
    "'''"
   ]
  },
  {
   "cell_type": "code",
   "execution_count": 37,
   "metadata": {},
   "outputs": [],
   "source": [
    "X = data.drop(['Price'], axis = 1)\n",
    "y = data['Price']\n",
    "features_train, features_test, target_train, target_test = train_test_split(X, y, test_size=0.25, random_state=12345)"
   ]
  },
  {
   "cell_type": "code",
   "execution_count": 38,
   "metadata": {},
   "outputs": [
    {
     "data": {
      "text/plain": [
       "<matplotlib.axes._subplots.AxesSubplot at 0x7f7d970ade10>"
      ]
     },
     "execution_count": 38,
     "metadata": {},
     "output_type": "execute_result"
    },
    {
     "data": {
      "image/png": "[encoded data removed]",
      "text/plain": [
       "<Figure size 1080x1080 with 2 Axes>"
      ]
     },
     "metadata": {
      "needs_background": "light"
     },
     "output_type": "display_data"
    }
   ],
   "source": [
    "plt.figure(figsize = (15, 15))\n",
    "sns.heatmap(data.corr(), annot = True)"
   ]
  },
  {
   "cell_type": "code",
   "execution_count": 39,
   "metadata": {},
   "outputs": [
    {
     "data": {
      "text/plain": [
       "count    340024.000000\n",
       "mean       4602.471902\n",
       "std        4514.902742\n",
       "min         101.000000\n",
       "25%        1200.000000\n",
       "50%        2900.000000\n",
       "75%        6500.000000\n",
       "max       20000.000000\n",
       "Name: Price, dtype: float64"
      ]
     },
     "execution_count": 39,
     "metadata": {},
     "output_type": "execute_result"
    },
    {
     "data": {
      "image/png": "[encoded data removed]",
      "text/plain": [
       "<Figure size 432x288 with 1 Axes>"
      ]
     },
     "metadata": {
      "needs_background": "light"
     },
     "output_type": "display_data"
    }
   ],
   "source": [
    "sns.distplot(y)\n",
    "y.describe()"
   ]
  },
  {
   "cell_type": "code",
   "execution_count": 40,
   "metadata": {},
   "outputs": [],
   "source": [
    "def learn_time(model, x_train, y_train):\n",
    "    start = time.time()\n",
    "    model.fit(x_train, y_train)\n",
    "    end = time.time()\n",
    "    time_fit = end - start\n",
    "    return time_fit, model"
   ]
  },
  {
   "cell_type": "code",
   "execution_count": 41,
   "metadata": {},
   "outputs": [],
   "source": [
    "def predict_time(model, x_test):\n",
    "    start = time.time()\n",
    "    predict = model.predict(x_test)\n",
    "    end = time.time()\n",
    "    time_predict = end - start\n",
    "    return time_predict, predict"
   ]
  },
  {
   "cell_type": "code",
   "execution_count": 42,
   "metadata": {},
   "outputs": [
    {
     "data": {
      "text/html": [
       "<div>\n",
       "<style scoped>\n",
       "    .dataframe tbody tr th:only-of-type {\n",
       "        vertical-align: middle;\n",
       "    }\n",
       "\n",
       "    .dataframe tbody tr th {\n",
       "        vertical-align: top;\n",
       "    }\n",
       "\n",
       "    .dataframe thead th {\n",
       "        text-align: right;\n",
       "    }\n",
       "</style>\n",
       "<table border=\"1\" class=\"dataframe\">\n",
       "  <thead>\n",
       "    <tr style=\"text-align: right;\">\n",
       "      <th></th>\n",
       "      <th>RMSE</th>\n",
       "      <th>Fit time</th>\n",
       "      <th>Predict time</th>\n",
       "      <th>Model</th>\n",
       "    </tr>\n",
       "  </thead>\n",
       "  <tbody>\n",
       "  </tbody>\n",
       "</table>\n",
       "</div>"
      ],
      "text/plain": [
       "Empty DataFrame\n",
       "Columns: [RMSE, Fit time, Predict time, Model]\n",
       "Index: []"
      ]
     },
     "execution_count": 42,
     "metadata": {},
     "output_type": "execute_result"
    }
   ],
   "source": [
    "data_result = pd.DataFrame(columns = ['RMSE', 'Fit time', 'Predict time', 'Model'])\n",
    "data_result"
   ]
  },
  {
   "cell_type": "code",
   "execution_count": 43,
   "metadata": {},
   "outputs": [],
   "source": [
    "def data_metrics(RMSE, l_time, p_time, model_name, df):\n",
    "    df.loc[model_name, 'RMSE'] = RMSE\n",
    "    df.loc[model_name, 'Fit time'] = l_time\n",
    "    df.loc[model_name, 'Predict time'] = p_time\n",
    "    df.loc[model_name, 'Model'] = model_name\n",
    "    return df"
   ]
  },
  {
   "cell_type": "markdown",
   "metadata": {},
   "source": [
    "Здесь мы выполним настройку моделей, но не будем изменять гиперпараметры, чтобы не нарушать чистоту эксперимента."
   ]
  },
  {
   "cell_type": "markdown",
   "metadata": {},
   "source": [
    "<b>Линейная регрессия</b>"
   ]
  },
  {
   "cell_type": "code",
   "execution_count": 44,
   "metadata": {},
   "outputs": [
    {
     "data": {
      "text/html": [
       "<div>\n",
       "<style scoped>\n",
       "    .dataframe tbody tr th:only-of-type {\n",
       "        vertical-align: middle;\n",
       "    }\n",
       "\n",
       "    .dataframe tbody tr th {\n",
       "        vertical-align: top;\n",
       "    }\n",
       "\n",
       "    .dataframe thead th {\n",
       "        text-align: right;\n",
       "    }\n",
       "</style>\n",
       "<table border=\"1\" class=\"dataframe\">\n",
       "  <thead>\n",
       "    <tr style=\"text-align: right;\">\n",
       "      <th></th>\n",
       "      <th>RMSE</th>\n",
       "      <th>Fit time</th>\n",
       "      <th>Predict time</th>\n",
       "      <th>Model</th>\n",
       "    </tr>\n",
       "  </thead>\n",
       "  <tbody>\n",
       "    <tr>\n",
       "      <td>LinearRegression</td>\n",
       "      <td>3594.09</td>\n",
       "      <td>0.0990396</td>\n",
       "      <td>0.00491452</td>\n",
       "      <td>LinearRegression</td>\n",
       "    </tr>\n",
       "  </tbody>\n",
       "</table>\n",
       "</div>"
      ],
      "text/plain": [
       "                     RMSE   Fit time Predict time             Model\n",
       "LinearRegression  3594.09  0.0990396   0.00491452  LinearRegression"
      ]
     },
     "execution_count": 44,
     "metadata": {},
     "output_type": "execute_result"
    }
   ],
   "source": [
    "from sklearn.linear_model import LogisticRegression, LogisticRegressionCV, LinearRegression, Ridge, RidgeCV, Lasso, LassoCV\n",
    "import time\n",
    "LR_learn_time, LR_model = learn_time(LinearRegression(), features_train, target_train)\n",
    "LR_pred_time, LR_predict = predict_time(LR_model, features_test)\n",
    "LR_RMSE = np.sqrt(mean_squared_error(target_test, LR_predict))\n",
    "data_metrics(LR_RMSE, LR_learn_time, LR_pred_time, 'LinearRegression', data_result)"
   ]
  },
  {
   "cell_type": "markdown",
   "metadata": {},
   "source": [
    "<b>L_2 (ridge)</b>"
   ]
  },
  {
   "cell_type": "code",
   "execution_count": 45,
   "metadata": {},
   "outputs": [
    {
     "data": {
      "text/html": [
       "<div>\n",
       "<style scoped>\n",
       "    .dataframe tbody tr th:only-of-type {\n",
       "        vertical-align: middle;\n",
       "    }\n",
       "\n",
       "    .dataframe tbody tr th {\n",
       "        vertical-align: top;\n",
       "    }\n",
       "\n",
       "    .dataframe thead th {\n",
       "        text-align: right;\n",
       "    }\n",
       "</style>\n",
       "<table border=\"1\" class=\"dataframe\">\n",
       "  <thead>\n",
       "    <tr style=\"text-align: right;\">\n",
       "      <th></th>\n",
       "      <th>RMSE</th>\n",
       "      <th>Fit time</th>\n",
       "      <th>Predict time</th>\n",
       "      <th>Model</th>\n",
       "    </tr>\n",
       "  </thead>\n",
       "  <tbody>\n",
       "    <tr>\n",
       "      <td>LinearRegression</td>\n",
       "      <td>3594.09</td>\n",
       "      <td>0.0990396</td>\n",
       "      <td>0.00491452</td>\n",
       "      <td>LinearRegression</td>\n",
       "    </tr>\n",
       "    <tr>\n",
       "      <td>RidgeRegression</td>\n",
       "      <td>3594.09</td>\n",
       "      <td>0.0384407</td>\n",
       "      <td>0.00340366</td>\n",
       "      <td>RidgeRegression</td>\n",
       "    </tr>\n",
       "  </tbody>\n",
       "</table>\n",
       "</div>"
      ],
      "text/plain": [
       "                     RMSE   Fit time Predict time             Model\n",
       "LinearRegression  3594.09  0.0990396   0.00491452  LinearRegression\n",
       "RidgeRegression   3594.09  0.0384407   0.00340366   RidgeRegression"
      ]
     },
     "execution_count": 45,
     "metadata": {},
     "output_type": "execute_result"
    }
   ],
   "source": [
    "L2_time, L2_model = learn_time(Ridge(alpha=1, random_state=12345), features_train, target_train)\n",
    "L2_pred_time, L2_predict = predict_time(L2_model, features_test)\n",
    "L2_RMSE = np.sqrt(mean_squared_error(target_test, L2_predict))\n",
    "data_metrics(L2_RMSE, L2_time, L2_pred_time, 'RidgeRegression', data_result)"
   ]
  },
  {
   "cell_type": "markdown",
   "metadata": {},
   "source": [
    "<b>L_1 (lasso):</b>"
   ]
  },
  {
   "cell_type": "code",
   "execution_count": 46,
   "metadata": {},
   "outputs": [
    {
     "data": {
      "text/html": [
       "<div>\n",
       "<style scoped>\n",
       "    .dataframe tbody tr th:only-of-type {\n",
       "        vertical-align: middle;\n",
       "    }\n",
       "\n",
       "    .dataframe tbody tr th {\n",
       "        vertical-align: top;\n",
       "    }\n",
       "\n",
       "    .dataframe thead th {\n",
       "        text-align: right;\n",
       "    }\n",
       "</style>\n",
       "<table border=\"1\" class=\"dataframe\">\n",
       "  <thead>\n",
       "    <tr style=\"text-align: right;\">\n",
       "      <th></th>\n",
       "      <th>RMSE</th>\n",
       "      <th>Fit time</th>\n",
       "      <th>Predict time</th>\n",
       "      <th>Model</th>\n",
       "    </tr>\n",
       "  </thead>\n",
       "  <tbody>\n",
       "    <tr>\n",
       "      <td>LinearRegression</td>\n",
       "      <td>3594.09</td>\n",
       "      <td>0.0990396</td>\n",
       "      <td>0.00491452</td>\n",
       "      <td>LinearRegression</td>\n",
       "    </tr>\n",
       "    <tr>\n",
       "      <td>RidgeRegression</td>\n",
       "      <td>3594.09</td>\n",
       "      <td>0.0384407</td>\n",
       "      <td>0.00340366</td>\n",
       "      <td>RidgeRegression</td>\n",
       "    </tr>\n",
       "    <tr>\n",
       "      <td>LassoRegression</td>\n",
       "      <td>3594.08</td>\n",
       "      <td>0.304237</td>\n",
       "      <td>0.207404</td>\n",
       "      <td>LassoRegression</td>\n",
       "    </tr>\n",
       "  </tbody>\n",
       "</table>\n",
       "</div>"
      ],
      "text/plain": [
       "                     RMSE   Fit time Predict time             Model\n",
       "LinearRegression  3594.09  0.0990396   0.00491452  LinearRegression\n",
       "RidgeRegression   3594.09  0.0384407   0.00340366   RidgeRegression\n",
       "LassoRegression   3594.08   0.304237     0.207404   LassoRegression"
      ]
     },
     "execution_count": 46,
     "metadata": {},
     "output_type": "execute_result"
    }
   ],
   "source": [
    "L1_time, L1_model = learn_time(Lasso(alpha=0.5, random_state=12345), features_train, target_train)\n",
    "L1_pred_time, L1_predict = predict_time(L1_model, features_test)\n",
    "L1_RMSE = np.sqrt(mean_squared_error(target_test, L1_predict))\n",
    "data_metrics(L1_RMSE, L1_time, L1_pred_time, 'LassoRegression', data_result)"
   ]
  },
  {
   "cell_type": "markdown",
   "metadata": {},
   "source": [
    "Линейные модели отработали практически идентично."
   ]
  },
  {
   "cell_type": "markdown",
   "metadata": {},
   "source": [
    "<b>DecisionTree:</b>"
   ]
  },
  {
   "cell_type": "code",
   "execution_count": 47,
   "metadata": {},
   "outputs": [
    {
     "data": {
      "text/html": [
       "<div>\n",
       "<style scoped>\n",
       "    .dataframe tbody tr th:only-of-type {\n",
       "        vertical-align: middle;\n",
       "    }\n",
       "\n",
       "    .dataframe tbody tr th {\n",
       "        vertical-align: top;\n",
       "    }\n",
       "\n",
       "    .dataframe thead th {\n",
       "        text-align: right;\n",
       "    }\n",
       "</style>\n",
       "<table border=\"1\" class=\"dataframe\">\n",
       "  <thead>\n",
       "    <tr style=\"text-align: right;\">\n",
       "      <th></th>\n",
       "      <th>RMSE</th>\n",
       "      <th>Fit time</th>\n",
       "      <th>Predict time</th>\n",
       "      <th>Model</th>\n",
       "    </tr>\n",
       "  </thead>\n",
       "  <tbody>\n",
       "    <tr>\n",
       "      <td>LinearRegression</td>\n",
       "      <td>3594.09</td>\n",
       "      <td>0.0990396</td>\n",
       "      <td>0.00491452</td>\n",
       "      <td>LinearRegression</td>\n",
       "    </tr>\n",
       "    <tr>\n",
       "      <td>RidgeRegression</td>\n",
       "      <td>3594.09</td>\n",
       "      <td>0.0384407</td>\n",
       "      <td>0.00340366</td>\n",
       "      <td>RidgeRegression</td>\n",
       "    </tr>\n",
       "    <tr>\n",
       "      <td>LassoRegression</td>\n",
       "      <td>3594.08</td>\n",
       "      <td>0.304237</td>\n",
       "      <td>0.207404</td>\n",
       "      <td>LassoRegression</td>\n",
       "    </tr>\n",
       "    <tr>\n",
       "      <td>DecisionTree</td>\n",
       "      <td>2192.96</td>\n",
       "      <td>2.61483</td>\n",
       "      <td>0.0641139</td>\n",
       "      <td>DecisionTree</td>\n",
       "    </tr>\n",
       "  </tbody>\n",
       "</table>\n",
       "</div>"
      ],
      "text/plain": [
       "                     RMSE   Fit time Predict time             Model\n",
       "LinearRegression  3594.09  0.0990396   0.00491452  LinearRegression\n",
       "RidgeRegression   3594.09  0.0384407   0.00340366   RidgeRegression\n",
       "LassoRegression   3594.08   0.304237     0.207404   LassoRegression\n",
       "DecisionTree      2192.96    2.61483    0.0641139      DecisionTree"
      ]
     },
     "execution_count": 47,
     "metadata": {},
     "output_type": "execute_result"
    }
   ],
   "source": [
    "from sklearn.tree import DecisionTreeClassifier, DecisionTreeRegressor\n",
    "tree_l_time, tree_model = learn_time(DecisionTreeRegressor(), features_train, target_train)\n",
    "tree_pred_time, tree_predict = predict_time(tree_model, features_test)\n",
    "tree_RMSE = np.sqrt(mean_squared_error(target_test, tree_predict))\n",
    "data_metrics(tree_RMSE, tree_l_time, tree_pred_time, 'DecisionTree', data_result)"
   ]
  },
  {
   "cell_type": "markdown",
   "metadata": {},
   "source": [
    "DecisionTree обучается лучше, но время обучения выросло."
   ]
  },
  {
   "cell_type": "markdown",
   "metadata": {},
   "source": [
    "<b>Randfom Forest</b>"
   ]
  },
  {
   "cell_type": "code",
   "execution_count": 48,
   "metadata": {},
   "outputs": [
    {
     "data": {
      "text/html": [
       "<div>\n",
       "<style scoped>\n",
       "    .dataframe tbody tr th:only-of-type {\n",
       "        vertical-align: middle;\n",
       "    }\n",
       "\n",
       "    .dataframe tbody tr th {\n",
       "        vertical-align: top;\n",
       "    }\n",
       "\n",
       "    .dataframe thead th {\n",
       "        text-align: right;\n",
       "    }\n",
       "</style>\n",
       "<table border=\"1\" class=\"dataframe\">\n",
       "  <thead>\n",
       "    <tr style=\"text-align: right;\">\n",
       "      <th></th>\n",
       "      <th>RMSE</th>\n",
       "      <th>Fit time</th>\n",
       "      <th>Predict time</th>\n",
       "      <th>Model</th>\n",
       "    </tr>\n",
       "  </thead>\n",
       "  <tbody>\n",
       "    <tr>\n",
       "      <td>LinearRegression</td>\n",
       "      <td>3594.09</td>\n",
       "      <td>0.0990396</td>\n",
       "      <td>0.00491452</td>\n",
       "      <td>LinearRegression</td>\n",
       "    </tr>\n",
       "    <tr>\n",
       "      <td>RidgeRegression</td>\n",
       "      <td>3594.09</td>\n",
       "      <td>0.0384407</td>\n",
       "      <td>0.00340366</td>\n",
       "      <td>RidgeRegression</td>\n",
       "    </tr>\n",
       "    <tr>\n",
       "      <td>LassoRegression</td>\n",
       "      <td>3594.08</td>\n",
       "      <td>0.304237</td>\n",
       "      <td>0.207404</td>\n",
       "      <td>LassoRegression</td>\n",
       "    </tr>\n",
       "    <tr>\n",
       "      <td>DecisionTree</td>\n",
       "      <td>2192.96</td>\n",
       "      <td>2.61483</td>\n",
       "      <td>0.0641139</td>\n",
       "      <td>DecisionTree</td>\n",
       "    </tr>\n",
       "    <tr>\n",
       "      <td>RandomForest</td>\n",
       "      <td>1639.67</td>\n",
       "      <td>34.6453</td>\n",
       "      <td>1.161</td>\n",
       "      <td>RandomForest</td>\n",
       "    </tr>\n",
       "  </tbody>\n",
       "</table>\n",
       "</div>"
      ],
      "text/plain": [
       "                     RMSE   Fit time Predict time             Model\n",
       "LinearRegression  3594.09  0.0990396   0.00491452  LinearRegression\n",
       "RidgeRegression   3594.09  0.0384407   0.00340366   RidgeRegression\n",
       "LassoRegression   3594.08   0.304237     0.207404   LassoRegression\n",
       "DecisionTree      2192.96    2.61483    0.0641139      DecisionTree\n",
       "RandomForest      1639.67    34.6453        1.161      RandomForest"
      ]
     },
     "execution_count": 48,
     "metadata": {},
     "output_type": "execute_result"
    }
   ],
   "source": [
    "from sklearn.ensemble import RandomForestClassifier, RandomForestRegressor\n",
    "RF_l_time, RF_model = learn_time(RandomForestRegressor(n_estimators=20, random_state=12345), features_train, target_train)\n",
    "RF_pred_time, RF_predict = predict_time(RF_model, features_test)\n",
    "RF_RMSE = np.sqrt(mean_squared_error(target_test, RF_predict))\n",
    "data_metrics(RF_RMSE, RF_l_time, RF_pred_time, 'RandomForest', data_result)"
   ]
  },
  {
   "cell_type": "markdown",
   "metadata": {},
   "source": [
    "<b>Gradient Boosting Regressor</b>"
   ]
  },
  {
   "cell_type": "code",
   "execution_count": 49,
   "metadata": {},
   "outputs": [
    {
     "data": {
      "text/html": [
       "<div>\n",
       "<style scoped>\n",
       "    .dataframe tbody tr th:only-of-type {\n",
       "        vertical-align: middle;\n",
       "    }\n",
       "\n",
       "    .dataframe tbody tr th {\n",
       "        vertical-align: top;\n",
       "    }\n",
       "\n",
       "    .dataframe thead th {\n",
       "        text-align: right;\n",
       "    }\n",
       "</style>\n",
       "<table border=\"1\" class=\"dataframe\">\n",
       "  <thead>\n",
       "    <tr style=\"text-align: right;\">\n",
       "      <th></th>\n",
       "      <th>RMSE</th>\n",
       "      <th>Fit time</th>\n",
       "      <th>Predict time</th>\n",
       "      <th>Model</th>\n",
       "    </tr>\n",
       "  </thead>\n",
       "  <tbody>\n",
       "    <tr>\n",
       "      <td>LinearRegression</td>\n",
       "      <td>3594.09</td>\n",
       "      <td>0.0990396</td>\n",
       "      <td>0.00491452</td>\n",
       "      <td>LinearRegression</td>\n",
       "    </tr>\n",
       "    <tr>\n",
       "      <td>RidgeRegression</td>\n",
       "      <td>3594.09</td>\n",
       "      <td>0.0384407</td>\n",
       "      <td>0.00340366</td>\n",
       "      <td>RidgeRegression</td>\n",
       "    </tr>\n",
       "    <tr>\n",
       "      <td>LassoRegression</td>\n",
       "      <td>3594.08</td>\n",
       "      <td>0.304237</td>\n",
       "      <td>0.207404</td>\n",
       "      <td>LassoRegression</td>\n",
       "    </tr>\n",
       "    <tr>\n",
       "      <td>DecisionTree</td>\n",
       "      <td>2192.96</td>\n",
       "      <td>2.61483</td>\n",
       "      <td>0.0641139</td>\n",
       "      <td>DecisionTree</td>\n",
       "    </tr>\n",
       "    <tr>\n",
       "      <td>RandomForest</td>\n",
       "      <td>1639.67</td>\n",
       "      <td>34.6453</td>\n",
       "      <td>1.161</td>\n",
       "      <td>RandomForest</td>\n",
       "    </tr>\n",
       "    <tr>\n",
       "      <td>GBR</td>\n",
       "      <td>1986.04</td>\n",
       "      <td>23.5681</td>\n",
       "      <td>0.173019</td>\n",
       "      <td>GBR</td>\n",
       "    </tr>\n",
       "  </tbody>\n",
       "</table>\n",
       "</div>"
      ],
      "text/plain": [
       "                     RMSE   Fit time Predict time             Model\n",
       "LinearRegression  3594.09  0.0990396   0.00491452  LinearRegression\n",
       "RidgeRegression   3594.09  0.0384407   0.00340366   RidgeRegression\n",
       "LassoRegression   3594.08   0.304237     0.207404   LassoRegression\n",
       "DecisionTree      2192.96    2.61483    0.0641139      DecisionTree\n",
       "RandomForest      1639.67    34.6453        1.161      RandomForest\n",
       "GBR               1986.04    23.5681     0.173019               GBR"
      ]
     },
     "execution_count": 49,
     "metadata": {},
     "output_type": "execute_result"
    }
   ],
   "source": [
    "from sklearn.ensemble import GradientBoostingRegressor\n",
    "GBR_l_time, GBR_model = learn_time(GradientBoostingRegressor(n_estimators=100, random_state=12345), features_train, target_train)\n",
    "GBR_pred_time, GBR_predict = predict_time(GBR_model, features_test)\n",
    "GBR_RMSE = np.sqrt(mean_squared_error(target_test, GBR_predict))\n",
    "data_metrics(GBR_RMSE, GBR_l_time, GBR_pred_time, 'GBR', data_result)"
   ]
  },
  {
   "cell_type": "markdown",
   "metadata": {},
   "source": [
    "<b>Light GBM</b>"
   ]
  },
  {
   "cell_type": "code",
   "execution_count": 50,
   "metadata": {},
   "outputs": [
    {
     "data": {
      "text/html": [
       "<div>\n",
       "<style scoped>\n",
       "    .dataframe tbody tr th:only-of-type {\n",
       "        vertical-align: middle;\n",
       "    }\n",
       "\n",
       "    .dataframe tbody tr th {\n",
       "        vertical-align: top;\n",
       "    }\n",
       "\n",
       "    .dataframe thead th {\n",
       "        text-align: right;\n",
       "    }\n",
       "</style>\n",
       "<table border=\"1\" class=\"dataframe\">\n",
       "  <thead>\n",
       "    <tr style=\"text-align: right;\">\n",
       "      <th></th>\n",
       "      <th>RMSE</th>\n",
       "      <th>Fit time</th>\n",
       "      <th>Predict time</th>\n",
       "      <th>Model</th>\n",
       "    </tr>\n",
       "  </thead>\n",
       "  <tbody>\n",
       "    <tr>\n",
       "      <td>LinearRegression</td>\n",
       "      <td>3594.09</td>\n",
       "      <td>0.0990396</td>\n",
       "      <td>0.00491452</td>\n",
       "      <td>LinearRegression</td>\n",
       "    </tr>\n",
       "    <tr>\n",
       "      <td>RidgeRegression</td>\n",
       "      <td>3594.09</td>\n",
       "      <td>0.0384407</td>\n",
       "      <td>0.00340366</td>\n",
       "      <td>RidgeRegression</td>\n",
       "    </tr>\n",
       "    <tr>\n",
       "      <td>LassoRegression</td>\n",
       "      <td>3594.08</td>\n",
       "      <td>0.304237</td>\n",
       "      <td>0.207404</td>\n",
       "      <td>LassoRegression</td>\n",
       "    </tr>\n",
       "    <tr>\n",
       "      <td>DecisionTree</td>\n",
       "      <td>2192.96</td>\n",
       "      <td>2.61483</td>\n",
       "      <td>0.0641139</td>\n",
       "      <td>DecisionTree</td>\n",
       "    </tr>\n",
       "    <tr>\n",
       "      <td>RandomForest</td>\n",
       "      <td>1639.67</td>\n",
       "      <td>34.6453</td>\n",
       "      <td>1.161</td>\n",
       "      <td>RandomForest</td>\n",
       "    </tr>\n",
       "    <tr>\n",
       "      <td>GBR</td>\n",
       "      <td>1986.04</td>\n",
       "      <td>23.5681</td>\n",
       "      <td>0.173019</td>\n",
       "      <td>GBR</td>\n",
       "    </tr>\n",
       "    <tr>\n",
       "      <td>LightGBM</td>\n",
       "      <td>1753.24</td>\n",
       "      <td>191.881</td>\n",
       "      <td>1.00007</td>\n",
       "      <td>LightGBM</td>\n",
       "    </tr>\n",
       "  </tbody>\n",
       "</table>\n",
       "</div>"
      ],
      "text/plain": [
       "                     RMSE   Fit time Predict time             Model\n",
       "LinearRegression  3594.09  0.0990396   0.00491452  LinearRegression\n",
       "RidgeRegression   3594.09  0.0384407   0.00340366   RidgeRegression\n",
       "LassoRegression   3594.08   0.304237     0.207404   LassoRegression\n",
       "DecisionTree      2192.96    2.61483    0.0641139      DecisionTree\n",
       "RandomForest      1639.67    34.6453        1.161      RandomForest\n",
       "GBR               1986.04    23.5681     0.173019               GBR\n",
       "LightGBM          1753.24    191.881      1.00007          LightGBM"
      ]
     },
     "execution_count": 50,
     "metadata": {},
     "output_type": "execute_result"
    }
   ],
   "source": [
    "from lightgbm import LGBMRegressor\n",
    "LGB_l_time, LGB_model = learn_time(LGBMRegressor(random_state=12345), features_train, target_train)\n",
    "LGB_pred_time, LGB_predict = predict_time(LGB_model, features_test)\n",
    "LGB_RMSE = np.sqrt(mean_squared_error(target_test, LGB_predict))\n",
    "data_metrics(LGB_RMSE, LGB_l_time, LGB_pred_time, 'LightGBM', data_result)"
   ]
  },
  {
   "cell_type": "markdown",
   "metadata": {},
   "source": [
    "<b>XGBoost</b>"
   ]
  },
  {
   "cell_type": "code",
   "execution_count": 51,
   "metadata": {},
   "outputs": [
    {
     "name": "stdout",
     "output_type": "stream",
     "text": [
      "[14:44:23] WARNING: /workspace/src/objective/regression_obj.cu:152: reg:linear is now deprecated in favor of reg:squarederror.\n"
     ]
    },
    {
     "data": {
      "text/html": [
       "<div>\n",
       "<style scoped>\n",
       "    .dataframe tbody tr th:only-of-type {\n",
       "        vertical-align: middle;\n",
       "    }\n",
       "\n",
       "    .dataframe tbody tr th {\n",
       "        vertical-align: top;\n",
       "    }\n",
       "\n",
       "    .dataframe thead th {\n",
       "        text-align: right;\n",
       "    }\n",
       "</style>\n",
       "<table border=\"1\" class=\"dataframe\">\n",
       "  <thead>\n",
       "    <tr style=\"text-align: right;\">\n",
       "      <th></th>\n",
       "      <th>RMSE</th>\n",
       "      <th>Fit time</th>\n",
       "      <th>Predict time</th>\n",
       "      <th>Model</th>\n",
       "    </tr>\n",
       "  </thead>\n",
       "  <tbody>\n",
       "    <tr>\n",
       "      <td>LinearRegression</td>\n",
       "      <td>3594.09</td>\n",
       "      <td>0.0990396</td>\n",
       "      <td>0.00491452</td>\n",
       "      <td>LinearRegression</td>\n",
       "    </tr>\n",
       "    <tr>\n",
       "      <td>RidgeRegression</td>\n",
       "      <td>3594.09</td>\n",
       "      <td>0.0384407</td>\n",
       "      <td>0.00340366</td>\n",
       "      <td>RidgeRegression</td>\n",
       "    </tr>\n",
       "    <tr>\n",
       "      <td>LassoRegression</td>\n",
       "      <td>3594.08</td>\n",
       "      <td>0.304237</td>\n",
       "      <td>0.207404</td>\n",
       "      <td>LassoRegression</td>\n",
       "    </tr>\n",
       "    <tr>\n",
       "      <td>DecisionTree</td>\n",
       "      <td>2192.96</td>\n",
       "      <td>2.61483</td>\n",
       "      <td>0.0641139</td>\n",
       "      <td>DecisionTree</td>\n",
       "    </tr>\n",
       "    <tr>\n",
       "      <td>RandomForest</td>\n",
       "      <td>1639.67</td>\n",
       "      <td>34.6453</td>\n",
       "      <td>1.161</td>\n",
       "      <td>RandomForest</td>\n",
       "    </tr>\n",
       "    <tr>\n",
       "      <td>GBR</td>\n",
       "      <td>1986.04</td>\n",
       "      <td>23.5681</td>\n",
       "      <td>0.173019</td>\n",
       "      <td>GBR</td>\n",
       "    </tr>\n",
       "    <tr>\n",
       "      <td>LightGBM</td>\n",
       "      <td>1753.24</td>\n",
       "      <td>191.881</td>\n",
       "      <td>1.00007</td>\n",
       "      <td>LightGBM</td>\n",
       "    </tr>\n",
       "    <tr>\n",
       "      <td>XGBR</td>\n",
       "      <td>1991.13</td>\n",
       "      <td>20.1004</td>\n",
       "      <td>0.381386</td>\n",
       "      <td>XGBR</td>\n",
       "    </tr>\n",
       "  </tbody>\n",
       "</table>\n",
       "</div>"
      ],
      "text/plain": [
       "                     RMSE   Fit time Predict time             Model\n",
       "LinearRegression  3594.09  0.0990396   0.00491452  LinearRegression\n",
       "RidgeRegression   3594.09  0.0384407   0.00340366   RidgeRegression\n",
       "LassoRegression   3594.08   0.304237     0.207404   LassoRegression\n",
       "DecisionTree      2192.96    2.61483    0.0641139      DecisionTree\n",
       "RandomForest      1639.67    34.6453        1.161      RandomForest\n",
       "GBR               1986.04    23.5681     0.173019               GBR\n",
       "LightGBM          1753.24    191.881      1.00007          LightGBM\n",
       "XGBR              1991.13    20.1004     0.381386              XGBR"
      ]
     },
     "execution_count": 51,
     "metadata": {},
     "output_type": "execute_result"
    }
   ],
   "source": [
    "import xgboost as xgb\n",
    "XGBR_l_time, XGBR_model = learn_time(xgb.XGBRegressor(n_estimators = 100, random_state= 12345), features_train, target_train)\n",
    "XGBR_pred_time, XGBR_predict = predict_time(XGBR_model, features_test)\n",
    "XGBR_RMSE = np.sqrt(mean_squared_error(target_test, XGBR_predict))\n",
    "data_metrics(XGBR_RMSE, XGBR_l_time, XGBR_pred_time, 'XGBR', data_result)"
   ]
  },
  {
   "cell_type": "markdown",
   "metadata": {},
   "source": [
    "<b>CatBoost</b>"
   ]
  },
  {
   "cell_type": "code",
   "execution_count": 52,
   "metadata": {
    "scrolled": true
   },
   "outputs": [
    {
     "name": "stdout",
     "output_type": "stream",
     "text": [
      "0:\tlearn: 4426.9050237\ttotal: 213ms\tremaining: 21.1s\n",
      "1:\tlearn: 4342.4584662\ttotal: 412ms\tremaining: 20.2s\n",
      "2:\tlearn: 4264.3005839\ttotal: 612ms\tremaining: 19.8s\n",
      "3:\tlearn: 4188.7516160\ttotal: 811ms\tremaining: 19.5s\n",
      "4:\tlearn: 4115.8068146\ttotal: 1.01s\tremaining: 19.2s\n",
      "5:\tlearn: 4043.5397422\ttotal: 1.21s\tremaining: 18.9s\n",
      "6:\tlearn: 3972.5390610\ttotal: 1.41s\tremaining: 18.7s\n",
      "7:\tlearn: 3907.9699055\ttotal: 1.52s\tremaining: 17.5s\n",
      "8:\tlearn: 3846.3504942\ttotal: 1.72s\tremaining: 17.4s\n",
      "9:\tlearn: 3786.5019307\ttotal: 1.92s\tremaining: 17.2s\n",
      "10:\tlearn: 3727.1030113\ttotal: 2.11s\tremaining: 17.1s\n",
      "11:\tlearn: 3668.6011179\ttotal: 2.31s\tremaining: 16.9s\n",
      "12:\tlearn: 3611.9125109\ttotal: 2.5s\tremaining: 16.8s\n",
      "13:\tlearn: 3556.6520201\ttotal: 2.7s\tremaining: 16.6s\n",
      "14:\tlearn: 3506.5992895\ttotal: 2.9s\tremaining: 16.4s\n",
      "15:\tlearn: 3456.9839350\ttotal: 3.1s\tremaining: 16.3s\n",
      "16:\tlearn: 3409.7423955\ttotal: 3.3s\tremaining: 16.1s\n",
      "17:\tlearn: 3363.0764253\ttotal: 3.5s\tremaining: 15.9s\n",
      "18:\tlearn: 3318.0799892\ttotal: 3.61s\tremaining: 15.4s\n",
      "19:\tlearn: 3275.6984681\ttotal: 3.81s\tremaining: 15.2s\n",
      "20:\tlearn: 3235.9524385\ttotal: 4.01s\tremaining: 15.1s\n",
      "21:\tlearn: 3195.9217117\ttotal: 4.2s\tremaining: 14.9s\n",
      "22:\tlearn: 3159.3482089\ttotal: 4.4s\tremaining: 14.7s\n",
      "23:\tlearn: 3122.0512151\ttotal: 4.6s\tremaining: 14.6s\n",
      "24:\tlearn: 3086.8881490\ttotal: 4.8s\tremaining: 14.4s\n",
      "25:\tlearn: 3052.2285050\ttotal: 4.99s\tremaining: 14.2s\n",
      "26:\tlearn: 3019.3633391\ttotal: 5.19s\tremaining: 14s\n",
      "27:\tlearn: 2986.9682109\ttotal: 5.39s\tremaining: 13.9s\n",
      "28:\tlearn: 2955.5906863\ttotal: 5.59s\tremaining: 13.7s\n",
      "29:\tlearn: 2926.8332230\ttotal: 5.79s\tremaining: 13.5s\n",
      "30:\tlearn: 2897.8720228\ttotal: 5.99s\tremaining: 13.3s\n",
      "31:\tlearn: 2871.8259818\ttotal: 6.1s\tremaining: 13s\n",
      "32:\tlearn: 2846.4032450\ttotal: 6.3s\tremaining: 12.8s\n",
      "33:\tlearn: 2820.6356740\ttotal: 6.5s\tremaining: 12.6s\n",
      "34:\tlearn: 2796.7987627\ttotal: 6.69s\tremaining: 12.4s\n",
      "35:\tlearn: 2773.3870322\ttotal: 6.89s\tremaining: 12.3s\n",
      "36:\tlearn: 2751.4062960\ttotal: 7.08s\tremaining: 12.1s\n",
      "37:\tlearn: 2729.9021295\ttotal: 7.28s\tremaining: 11.9s\n",
      "38:\tlearn: 2707.9944683\ttotal: 7.48s\tremaining: 11.7s\n",
      "39:\tlearn: 2688.1434865\ttotal: 7.59s\tremaining: 11.4s\n",
      "40:\tlearn: 2668.9846966\ttotal: 7.79s\tremaining: 11.2s\n",
      "41:\tlearn: 2650.2622479\ttotal: 7.99s\tremaining: 11s\n",
      "42:\tlearn: 2631.5816168\ttotal: 8.19s\tremaining: 10.9s\n",
      "43:\tlearn: 2613.7231603\ttotal: 8.44s\tremaining: 10.7s\n",
      "44:\tlearn: 2596.3860808\ttotal: 8.68s\tremaining: 10.6s\n",
      "45:\tlearn: 2579.8570779\ttotal: 8.87s\tremaining: 10.4s\n",
      "46:\tlearn: 2564.0301624\ttotal: 9.07s\tremaining: 10.2s\n",
      "47:\tlearn: 2549.3092763\ttotal: 9.26s\tremaining: 10s\n",
      "48:\tlearn: 2534.6709141\ttotal: 9.38s\tremaining: 9.76s\n",
      "49:\tlearn: 2521.0491686\ttotal: 9.57s\tremaining: 9.57s\n",
      "50:\tlearn: 2507.7292371\ttotal: 9.77s\tremaining: 9.39s\n",
      "51:\tlearn: 2494.2258911\ttotal: 9.97s\tremaining: 9.2s\n",
      "52:\tlearn: 2481.1955282\ttotal: 10.2s\tremaining: 9.02s\n",
      "53:\tlearn: 2468.3410559\ttotal: 10.4s\tremaining: 8.83s\n",
      "54:\tlearn: 2456.7470301\ttotal: 10.6s\tremaining: 8.64s\n",
      "55:\tlearn: 2444.9905028\ttotal: 10.8s\tremaining: 8.45s\n",
      "56:\tlearn: 2433.6886082\ttotal: 11s\tremaining: 8.26s\n",
      "57:\tlearn: 2422.7873328\ttotal: 11.1s\tremaining: 8.02s\n",
      "58:\tlearn: 2411.9921737\ttotal: 11.3s\tremaining: 7.83s\n",
      "59:\tlearn: 2402.2243521\ttotal: 11.5s\tremaining: 7.64s\n",
      "60:\tlearn: 2392.1121671\ttotal: 11.7s\tremaining: 7.45s\n",
      "61:\tlearn: 2382.6428132\ttotal: 11.9s\tremaining: 7.26s\n",
      "62:\tlearn: 2373.6692326\ttotal: 12s\tremaining: 7.03s\n",
      "63:\tlearn: 2363.9740543\ttotal: 12.2s\tremaining: 6.84s\n",
      "64:\tlearn: 2354.6851415\ttotal: 12.4s\tremaining: 6.65s\n",
      "65:\tlearn: 2346.3738040\ttotal: 12.6s\tremaining: 6.47s\n",
      "66:\tlearn: 2336.9852028\ttotal: 12.8s\tremaining: 6.28s\n",
      "67:\tlearn: 2329.4682386\ttotal: 12.9s\tremaining: 6.09s\n",
      "68:\tlearn: 2320.7284752\ttotal: 13.1s\tremaining: 5.91s\n",
      "69:\tlearn: 2313.3088868\ttotal: 13.3s\tremaining: 5.72s\n",
      "70:\tlearn: 2305.8738167\ttotal: 13.5s\tremaining: 5.5s\n",
      "71:\tlearn: 2298.6360869\ttotal: 13.7s\tremaining: 5.31s\n",
      "72:\tlearn: 2291.9057063\ttotal: 13.9s\tremaining: 5.12s\n",
      "73:\tlearn: 2285.1243955\ttotal: 14s\tremaining: 4.93s\n",
      "74:\tlearn: 2278.8612636\ttotal: 14.2s\tremaining: 4.75s\n",
      "75:\tlearn: 2271.8737994\ttotal: 14.4s\tremaining: 4.54s\n",
      "76:\tlearn: 2265.6629021\ttotal: 14.6s\tremaining: 4.35s\n",
      "77:\tlearn: 2259.0465692\ttotal: 14.7s\tremaining: 4.16s\n",
      "78:\tlearn: 2253.6995134\ttotal: 14.9s\tremaining: 3.97s\n",
      "79:\tlearn: 2248.6816904\ttotal: 15.1s\tremaining: 3.79s\n",
      "80:\tlearn: 2241.8157207\ttotal: 15.3s\tremaining: 3.6s\n",
      "81:\tlearn: 2236.1628926\ttotal: 15.5s\tremaining: 3.41s\n",
      "82:\tlearn: 2230.8290949\ttotal: 15.7s\tremaining: 3.22s\n",
      "83:\tlearn: 2225.6943319\ttotal: 15.9s\tremaining: 3.02s\n",
      "84:\tlearn: 2219.4160337\ttotal: 16s\tremaining: 2.83s\n",
      "85:\tlearn: 2214.3963586\ttotal: 16.2s\tremaining: 2.64s\n",
      "86:\tlearn: 2208.3807520\ttotal: 16.4s\tremaining: 2.46s\n",
      "87:\tlearn: 2203.9286751\ttotal: 16.6s\tremaining: 2.27s\n",
      "88:\tlearn: 2199.2330635\ttotal: 16.8s\tremaining: 2.08s\n",
      "89:\tlearn: 2194.9566752\ttotal: 17s\tremaining: 1.89s\n",
      "90:\tlearn: 2190.9574696\ttotal: 17.2s\tremaining: 1.7s\n",
      "91:\tlearn: 2185.9610357\ttotal: 17.4s\tremaining: 1.52s\n",
      "92:\tlearn: 2181.2088107\ttotal: 17.6s\tremaining: 1.33s\n",
      "93:\tlearn: 2177.0578356\ttotal: 17.8s\tremaining: 1.14s\n",
      "94:\tlearn: 2172.9104244\ttotal: 18s\tremaining: 949ms\n",
      "95:\tlearn: 2168.9515074\ttotal: 18.2s\tremaining: 759ms\n",
      "96:\tlearn: 2165.3079749\ttotal: 18.4s\tremaining: 570ms\n",
      "97:\tlearn: 2161.5818351\ttotal: 18.6s\tremaining: 379ms\n",
      "98:\tlearn: 2157.6704652\ttotal: 18.7s\tremaining: 189ms\n",
      "99:\tlearn: 2154.4946095\ttotal: 18.9s\tremaining: 0us\n"
     ]
    },
    {
     "data": {
      "text/html": [
       "<div>\n",
       "<style scoped>\n",
       "    .dataframe tbody tr th:only-of-type {\n",
       "        vertical-align: middle;\n",
       "    }\n",
       "\n",
       "    .dataframe tbody tr th {\n",
       "        vertical-align: top;\n",
       "    }\n",
       "\n",
       "    .dataframe thead th {\n",
       "        text-align: right;\n",
       "    }\n",
       "</style>\n",
       "<table border=\"1\" class=\"dataframe\">\n",
       "  <thead>\n",
       "    <tr style=\"text-align: right;\">\n",
       "      <th></th>\n",
       "      <th>RMSE</th>\n",
       "      <th>Fit time</th>\n",
       "      <th>Predict time</th>\n",
       "      <th>Model</th>\n",
       "    </tr>\n",
       "  </thead>\n",
       "  <tbody>\n",
       "    <tr>\n",
       "      <td>LinearRegression</td>\n",
       "      <td>3594.09</td>\n",
       "      <td>0.0990396</td>\n",
       "      <td>0.00491452</td>\n",
       "      <td>LinearRegression</td>\n",
       "    </tr>\n",
       "    <tr>\n",
       "      <td>RidgeRegression</td>\n",
       "      <td>3594.09</td>\n",
       "      <td>0.0384407</td>\n",
       "      <td>0.00340366</td>\n",
       "      <td>RidgeRegression</td>\n",
       "    </tr>\n",
       "    <tr>\n",
       "      <td>LassoRegression</td>\n",
       "      <td>3594.08</td>\n",
       "      <td>0.304237</td>\n",
       "      <td>0.207404</td>\n",
       "      <td>LassoRegression</td>\n",
       "    </tr>\n",
       "    <tr>\n",
       "      <td>DecisionTree</td>\n",
       "      <td>2192.96</td>\n",
       "      <td>2.61483</td>\n",
       "      <td>0.0641139</td>\n",
       "      <td>DecisionTree</td>\n",
       "    </tr>\n",
       "    <tr>\n",
       "      <td>RandomForest</td>\n",
       "      <td>1639.67</td>\n",
       "      <td>34.6453</td>\n",
       "      <td>1.161</td>\n",
       "      <td>RandomForest</td>\n",
       "    </tr>\n",
       "    <tr>\n",
       "      <td>GBR</td>\n",
       "      <td>1986.04</td>\n",
       "      <td>23.5681</td>\n",
       "      <td>0.173019</td>\n",
       "      <td>GBR</td>\n",
       "    </tr>\n",
       "    <tr>\n",
       "      <td>LightGBM</td>\n",
       "      <td>1753.24</td>\n",
       "      <td>191.881</td>\n",
       "      <td>1.00007</td>\n",
       "      <td>LightGBM</td>\n",
       "    </tr>\n",
       "    <tr>\n",
       "      <td>XGBR</td>\n",
       "      <td>1991.13</td>\n",
       "      <td>20.1004</td>\n",
       "      <td>0.381386</td>\n",
       "      <td>XGBR</td>\n",
       "    </tr>\n",
       "    <tr>\n",
       "      <td>CatBoost</td>\n",
       "      <td>2152.63</td>\n",
       "      <td>20.89</td>\n",
       "      <td>0.0119691</td>\n",
       "      <td>CatBoost</td>\n",
       "    </tr>\n",
       "  </tbody>\n",
       "</table>\n",
       "</div>"
      ],
      "text/plain": [
       "                     RMSE   Fit time Predict time             Model\n",
       "LinearRegression  3594.09  0.0990396   0.00491452  LinearRegression\n",
       "RidgeRegression   3594.09  0.0384407   0.00340366   RidgeRegression\n",
       "LassoRegression   3594.08   0.304237     0.207404   LassoRegression\n",
       "DecisionTree      2192.96    2.61483    0.0641139      DecisionTree\n",
       "RandomForest      1639.67    34.6453        1.161      RandomForest\n",
       "GBR               1986.04    23.5681     0.173019               GBR\n",
       "LightGBM          1753.24    191.881      1.00007          LightGBM\n",
       "XGBR              1991.13    20.1004     0.381386              XGBR\n",
       "CatBoost          2152.63      20.89    0.0119691          CatBoost"
      ]
     },
     "execution_count": 52,
     "metadata": {},
     "output_type": "execute_result"
    }
   ],
   "source": [
    "from catboost import CatBoostRegressor, Pool\n",
    "CAT_l_time, CAT_model = learn_time(CatBoostRegressor(loss_function='RMSE', n_estimators = 100, random_state= 12345), features_train, target_train)\n",
    "CAT_pred_time, CAT_predict = predict_time(CAT_model, features_test)\n",
    "CAT_RMSE = np.sqrt(mean_squared_error(target_test, CAT_predict))\n",
    "data_metrics(CAT_RMSE, CAT_l_time, CAT_pred_time, 'CatBoost', data_result)"
   ]
  },
  {
   "cell_type": "markdown",
   "metadata": {},
   "source": [
    "<b>Базовая модель(const)</b>"
   ]
  },
  {
   "cell_type": "code",
   "execution_count": 53,
   "metadata": {},
   "outputs": [
    {
     "data": {
      "text/plain": [
       "0    4602.471902\n",
       "1    4602.471902\n",
       "2    4602.471902\n",
       "3    4602.471902\n",
       "4    4602.471902\n",
       "Name: Price, dtype: float64"
      ]
     },
     "execution_count": 53,
     "metadata": {},
     "output_type": "execute_result"
    }
   ],
   "source": [
    "y_hat = y.copy()\n",
    "y_hat.loc[:] = y.mean()\n",
    "y_hat.head()"
   ]
  },
  {
   "cell_type": "code",
   "execution_count": 54,
   "metadata": {},
   "outputs": [
    {
     "data": {
      "text/html": [
       "<div>\n",
       "<style scoped>\n",
       "    .dataframe tbody tr th:only-of-type {\n",
       "        vertical-align: middle;\n",
       "    }\n",
       "\n",
       "    .dataframe tbody tr th {\n",
       "        vertical-align: top;\n",
       "    }\n",
       "\n",
       "    .dataframe thead th {\n",
       "        text-align: right;\n",
       "    }\n",
       "</style>\n",
       "<table border=\"1\" class=\"dataframe\">\n",
       "  <thead>\n",
       "    <tr style=\"text-align: right;\">\n",
       "      <th></th>\n",
       "      <th>RMSE</th>\n",
       "      <th>Fit time</th>\n",
       "      <th>Predict time</th>\n",
       "      <th>Model</th>\n",
       "    </tr>\n",
       "  </thead>\n",
       "  <tbody>\n",
       "    <tr>\n",
       "      <td>LinearRegression</td>\n",
       "      <td>3594.09</td>\n",
       "      <td>0.0990396</td>\n",
       "      <td>0.00491452</td>\n",
       "      <td>LinearRegression</td>\n",
       "    </tr>\n",
       "    <tr>\n",
       "      <td>RidgeRegression</td>\n",
       "      <td>3594.09</td>\n",
       "      <td>0.0384407</td>\n",
       "      <td>0.00340366</td>\n",
       "      <td>RidgeRegression</td>\n",
       "    </tr>\n",
       "    <tr>\n",
       "      <td>LassoRegression</td>\n",
       "      <td>3594.08</td>\n",
       "      <td>0.304237</td>\n",
       "      <td>0.207404</td>\n",
       "      <td>LassoRegression</td>\n",
       "    </tr>\n",
       "    <tr>\n",
       "      <td>DecisionTree</td>\n",
       "      <td>2192.96</td>\n",
       "      <td>2.61483</td>\n",
       "      <td>0.0641139</td>\n",
       "      <td>DecisionTree</td>\n",
       "    </tr>\n",
       "    <tr>\n",
       "      <td>RandomForest</td>\n",
       "      <td>1639.67</td>\n",
       "      <td>34.6453</td>\n",
       "      <td>1.161</td>\n",
       "      <td>RandomForest</td>\n",
       "    </tr>\n",
       "    <tr>\n",
       "      <td>GBR</td>\n",
       "      <td>1986.04</td>\n",
       "      <td>23.5681</td>\n",
       "      <td>0.173019</td>\n",
       "      <td>GBR</td>\n",
       "    </tr>\n",
       "    <tr>\n",
       "      <td>LightGBM</td>\n",
       "      <td>1753.24</td>\n",
       "      <td>191.881</td>\n",
       "      <td>1.00007</td>\n",
       "      <td>LightGBM</td>\n",
       "    </tr>\n",
       "    <tr>\n",
       "      <td>XGBR</td>\n",
       "      <td>1991.13</td>\n",
       "      <td>20.1004</td>\n",
       "      <td>0.381386</td>\n",
       "      <td>XGBR</td>\n",
       "    </tr>\n",
       "    <tr>\n",
       "      <td>CatBoost</td>\n",
       "      <td>2152.63</td>\n",
       "      <td>20.89</td>\n",
       "      <td>0.0119691</td>\n",
       "      <td>CatBoost</td>\n",
       "    </tr>\n",
       "    <tr>\n",
       "      <td>Base</td>\n",
       "      <td>4514.9</td>\n",
       "      <td>0</td>\n",
       "      <td>0</td>\n",
       "      <td>Base</td>\n",
       "    </tr>\n",
       "  </tbody>\n",
       "</table>\n",
       "</div>"
      ],
      "text/plain": [
       "                     RMSE   Fit time Predict time             Model\n",
       "LinearRegression  3594.09  0.0990396   0.00491452  LinearRegression\n",
       "RidgeRegression   3594.09  0.0384407   0.00340366   RidgeRegression\n",
       "LassoRegression   3594.08   0.304237     0.207404   LassoRegression\n",
       "DecisionTree      2192.96    2.61483    0.0641139      DecisionTree\n",
       "RandomForest      1639.67    34.6453        1.161      RandomForest\n",
       "GBR               1986.04    23.5681     0.173019               GBR\n",
       "LightGBM          1753.24    191.881      1.00007          LightGBM\n",
       "XGBR              1991.13    20.1004     0.381386              XGBR\n",
       "CatBoost          2152.63      20.89    0.0119691          CatBoost\n",
       "Base               4514.9          0            0              Base"
      ]
     },
     "execution_count": 54,
     "metadata": {},
     "output_type": "execute_result"
    }
   ],
   "source": [
    "const_RMSE = np.sqrt(mean_squared_error(y, y_hat))\n",
    "data_metrics(const_RMSE, 0, 0, 'Base', data_result)"
   ]
  },
  {
   "cell_type": "markdown",
   "metadata": {},
   "source": [
    "<b>Итог:</b>\n",
    "\n",
    "- все модели работают лучше базовой, что хорошо;\n",
    "- очевидно, что сложные модели с набором простых моделей внутри работают дольше;\n",
    "- видно, что лучший результат, за наименьшее количество времени обучения выдала модель LightGBM, а если поиграться с гиперпараметрами, то модель станет ещё эффективнее."
   ]
  },
  {
   "cell_type": "markdown",
   "metadata": {},
   "source": [
    "## Анализ моделей"
   ]
  },
  {
   "cell_type": "code",
   "execution_count": null,
   "metadata": {},
   "outputs": [],
   "source": [
    "aa = None\n",
    "bb = 0\n",
    "for depth in range(1,11):\n",
    "    tree = DecisionTreeRegressor(random_state=12345, max_depth = depth)\n",
    "    tree.fit(features_train, target_train)\n",
    "    pred = tree.predict(features_test)\n",
    "    RMSE_DT = np.sqrt(mean_squared_error(target_test, pred))\n",
    "    if RMSE_DT > bb:\n",
    "        aa = tree\n",
    "        bb = RMSE_DT\n",
    "        depth_1 = depth\n",
    "print('RMSE DecisionTree модели c глубиной', depth_1, 'равна:', RMSE_DT)"
   ]
  },
  {
   "cell_type": "code",
   "execution_count": 55,
   "metadata": {},
   "outputs": [],
   "source": [
    "features_train_1, features_other_1, target_train_1, target_other_1 = train_test_split(X, y, test_size=0.4, random_state=12345)\n",
    "features_valid_1, features_test_1, target_valid_1, target_test_1 = train_test_split(features_other_1, target_other_1, test_size=0.5, random_state=12345)"
   ]
  },
  {
   "cell_type": "code",
   "execution_count": 56,
   "metadata": {
    "scrolled": true
   },
   "outputs": [
    {
     "name": "stdout",
     "output_type": "stream",
     "text": [
      "max_depth = 1 : 3781.0256285099417\n",
      "max_depth = 2 : 3275.4765036145377\n",
      "max_depth = 3 : 2983.135787841864\n",
      "max_depth = 4 : 2690.7506300589444\n",
      "max_depth = 5 : 2485.8997248367136\n",
      "max_depth = 6 : 2344.6144968453077\n",
      "max_depth = 7 : 2243.708387749551\n",
      "max_depth = 8 : 2154.57974981485\n",
      "max_depth = 9 : 2088.167455800784\n",
      "max_depth = 10 : 2041.7616155202031\n"
     ]
    }
   ],
   "source": [
    "for depth in range(1, 11):\n",
    "    model_1_1 = DecisionTreeRegressor(random_state = 12345, max_depth = depth)# < создайте модель, указав max_depth=depth >\n",
    "\n",
    "    model_1_1.fit(features_train_1, target_train_1)# < обучите модель >\n",
    "\n",
    "    predictions_valid = model_1_1.predict(features_valid_1)# < найдите предсказания на валидационной выборке >\n",
    "\n",
    "    print(\"max_depth =\", depth, \": \", end='')\n",
    "    print(np.sqrt(mean_squared_error(target_valid_1, predictions_valid))) "
   ]
  },
  {
   "cell_type": "code",
   "execution_count": 57,
   "metadata": {},
   "outputs": [
    {
     "name": "stdout",
     "output_type": "stream",
     "text": [
      "max_depth = 1 : 3781.0256285099417\n",
      "max_depth = 2 : 3275.4765036145377\n",
      "max_depth = 3 : 2983.135787841864\n",
      "max_depth = 4 : 2690.7506300589444\n",
      "max_depth = 5 : 2485.8997248367136\n",
      "max_depth = 6 : 2344.6144968453077\n",
      "max_depth = 7 : 2243.708387749551\n",
      "max_depth = 8 : 2154.57974981485\n",
      "max_depth = 9 : 2088.167455800784\n",
      "max_depth = 10 : 2041.7616155202031\n",
      "max_depth = 11 : 2021.0670025894358\n",
      "max_depth = 12 : 2004.0179239338681\n",
      "max_depth = 13 : 1995.9983629268404\n",
      "max_depth = 14 : 1994.976465907081\n",
      "max_depth = 15 : 2019.9594869142984\n",
      "max_depth = 16 : 2045.1296668193331\n",
      "max_depth = 17 : 2092.329111534275\n",
      "max_depth = 18 : 2117.8580293473087\n",
      "max_depth = 19 : 2147.770258717513\n",
      "max_depth = 20 : 2166.023120766906\n",
      "max_depth = 21 : 2183.8029340324465\n",
      "max_depth = 22 : 2193.376343101932\n",
      "max_depth = 23 : 2210.860971344232\n",
      "max_depth = 24 : 2213.7284152267225\n",
      "max_depth = 25 : 2230.275638607922\n",
      "max_depth = 26 : 2227.0459323208647\n",
      "max_depth = 27 : 2228.0990703835973\n",
      "max_depth = 28 : 2236.0154142076776\n",
      "max_depth = 29 : 2237.7715844857626\n",
      "max_depth = 30 : 2236.8141409925956\n",
      "max_depth = 31 : 2249.380794024435\n",
      "max_depth = 32 : 2237.676140119208\n",
      "max_depth = 33 : 2246.162278172959\n",
      "max_depth = 34 : 2236.292159192586\n",
      "max_depth = 35 : 2239.6847152602\n",
      "max_depth = 36 : 2236.5898325408534\n",
      "max_depth = 37 : 2239.017423215242\n",
      "max_depth = 38 : 2247.8261249527577\n",
      "max_depth = 39 : 2251.7768021136826\n",
      "max_depth = 40 : 2243.1339900706266\n",
      "max_depth = 41 : 2243.866697326972\n",
      "max_depth = 42 : 2241.5159291264904\n",
      "max_depth = 43 : 2249.521068573716\n",
      "max_depth = 44 : 2233.370641419197\n",
      "max_depth = 45 : 2249.4684378939933\n",
      "max_depth = 46 : 2246.6452016883395\n",
      "max_depth = 47 : 2241.3933407300274\n",
      "max_depth = 48 : 2242.2677214106425\n",
      "max_depth = 49 : 2242.43059558569\n",
      "max_depth = 50 : 2242.5376294599337\n"
     ]
    }
   ],
   "source": [
    "for depth in range(1, 51):\n",
    "    model_1_1 = DecisionTreeRegressor(random_state = 12345, max_depth = depth)# < создайте модель, указав max_depth=depth >\n",
    "\n",
    "    model_1_1.fit(features_train_1, target_train_1)# < обучите модель >\n",
    "\n",
    "    predictions_valid = model_1_1.predict(features_valid_1)# < найдите предсказания на валидационной выборке >\n",
    "\n",
    "    print(\"max_depth =\", depth, \": \", end='')\n",
    "    print(np.sqrt(mean_squared_error(target_valid_1, predictions_valid))) "
   ]
  },
  {
   "cell_type": "markdown",
   "metadata": {},
   "source": [
    "В данном случае лучший гиперпараметр max_depth = 14"
   ]
  },
  {
   "cell_type": "code",
   "execution_count": 62,
   "metadata": {},
   "outputs": [
    {
     "name": "stdout",
     "output_type": "stream",
     "text": [
      "RMSE: 1987.16855658858\n"
     ]
    }
   ],
   "source": [
    "model_1_1 = DecisionTreeRegressor(random_state = 12345, max_depth = 14)# < создайте модель, указав max_depth=depth >\n",
    "\n",
    "model_1_1.fit(features_train_1, target_train_1)# < обучите модель >\n",
    "\n",
    "predictions_test = model_1_1.predict(features_test_1)# < найдите предсказания на валидационной выборке >\n",
    "print('RMSE:', np.sqrt(mean_squared_error(target_test_1, predictions_test)))"
   ]
  },
  {
   "cell_type": "markdown",
   "metadata": {},
   "source": [
    "<b>Итог:</b> модель действительно обучилась немного лучше при глубине равной 14."
   ]
  }
 ],
 "metadata": {
  "kernelspec": {
   "display_name": "Python 3",
   "language": "python",
   "name": "python3"
  },
  "language_info": {
   "codemirror_mode": {
    "name": "ipython",
    "version": 3
   },
   "file_extension": ".py",
   "mimetype": "text/x-python",
   "name": "python",
   "nbconvert_exporter": "python",
   "pygments_lexer": "ipython3",
   "version": "3.7.8"
  },
  "toc": {
   "base_numbering": 1,
   "nav_menu": {},
   "number_sections": true,
   "sideBar": true,
   "skip_h1_title": true,
   "title_cell": "Table of Contents",
   "title_sidebar": "Contents",
   "toc_cell": false,
   "toc_position": {},
   "toc_section_display": true,
   "toc_window_display": false
  }
 },
 "nbformat": 4,
 "nbformat_minor": 2
}
